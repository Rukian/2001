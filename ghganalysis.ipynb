{
 "cells": [
  {
   "cell_type": "code",
   "execution_count": 1,
   "id": "8917fb2c",
   "metadata": {},
   "outputs": [],
   "source": [
    "import pandas as pd\n",
    "import matplotlib.pyplot as plt\n",
    "import seaborn as sns"
   ]
  },
  {
   "cell_type": "code",
   "execution_count": 2,
   "id": "83a2b3d9",
   "metadata": {},
   "outputs": [],
   "source": [
    "df = pd.read_csv('communityghg.csv')"
   ]
  },
  {
   "cell_type": "code",
   "execution_count": 59,
   "id": "28761185",
   "metadata": {
    "scrolled": true
   },
   "outputs": [
    {
     "data": {
      "text/html": [
       "<div>\n",
       "<style scoped>\n",
       "    .dataframe tbody tr th:only-of-type {\n",
       "        vertical-align: middle;\n",
       "    }\n",
       "\n",
       "    .dataframe tbody tr th {\n",
       "        vertical-align: top;\n",
       "    }\n",
       "\n",
       "    .dataframe thead th {\n",
       "        text-align: right;\n",
       "    }\n",
       "</style>\n",
       "<table border=\"1\" class=\"dataframe\">\n",
       "  <thead>\n",
       "    <tr style=\"text-align: right;\">\n",
       "      <th></th>\n",
       "      <th>Protocol</th>\n",
       "      <th>Sector</th>\n",
       "      <th>Source</th>\n",
       "      <th>Year (Calendar Year)</th>\n",
       "      <th>GHG Emissions (mt CO2e)</th>\n",
       "      <th>Unnamed: 5</th>\n",
       "      <th>Unnamed: 6</th>\n",
       "      <th>Unnamed: 7</th>\n",
       "      <th>Unnamed: 8</th>\n",
       "      <th>Unnamed: 9</th>\n",
       "      <th>Unnamed: 10</th>\n",
       "      <th>Unnamed: 11</th>\n",
       "      <th>Unnamed: 12</th>\n",
       "    </tr>\n",
       "  </thead>\n",
       "  <tbody>\n",
       "    <tr>\n",
       "      <th>0</th>\n",
       "      <td>Global Protocol for Community-Scale Greenhouse...</td>\n",
       "      <td>Commercial/Industrial/Large Residential</td>\n",
       "      <td>Electricity</td>\n",
       "      <td>2005</td>\n",
       "      <td>2513636.0</td>\n",
       "      <td>NaN</td>\n",
       "      <td>NaN</td>\n",
       "      <td>NaN</td>\n",
       "      <td>NaN</td>\n",
       "      <td>NaN</td>\n",
       "      <td>NaN</td>\n",
       "      <td>NaN</td>\n",
       "      <td>NaN</td>\n",
       "    </tr>\n",
       "    <tr>\n",
       "      <th>1</th>\n",
       "      <td>Global Protocol for Community-Scale Greenhouse...</td>\n",
       "      <td>Commercial/Industrial/Large Residential</td>\n",
       "      <td>Electricity</td>\n",
       "      <td>2006</td>\n",
       "      <td>2193105.0</td>\n",
       "      <td>NaN</td>\n",
       "      <td>NaN</td>\n",
       "      <td>NaN</td>\n",
       "      <td>NaN</td>\n",
       "      <td>NaN</td>\n",
       "      <td>NaN</td>\n",
       "      <td>NaN</td>\n",
       "      <td>NaN</td>\n",
       "    </tr>\n",
       "    <tr>\n",
       "      <th>2</th>\n",
       "      <td>Global Protocol for Community-Scale Greenhouse...</td>\n",
       "      <td>Commercial/Industrial/Large Residential</td>\n",
       "      <td>Electricity</td>\n",
       "      <td>2007</td>\n",
       "      <td>2506091.0</td>\n",
       "      <td>NaN</td>\n",
       "      <td>NaN</td>\n",
       "      <td>NaN</td>\n",
       "      <td>NaN</td>\n",
       "      <td>NaN</td>\n",
       "      <td>NaN</td>\n",
       "      <td>NaN</td>\n",
       "      <td>NaN</td>\n",
       "    </tr>\n",
       "    <tr>\n",
       "      <th>3</th>\n",
       "      <td>Global Protocol for Community-Scale Greenhouse...</td>\n",
       "      <td>Commercial/Industrial/Large Residential</td>\n",
       "      <td>Electricity</td>\n",
       "      <td>2008</td>\n",
       "      <td>2458906.0</td>\n",
       "      <td>NaN</td>\n",
       "      <td>NaN</td>\n",
       "      <td>NaN</td>\n",
       "      <td>NaN</td>\n",
       "      <td>NaN</td>\n",
       "      <td>NaN</td>\n",
       "      <td>NaN</td>\n",
       "      <td>NaN</td>\n",
       "    </tr>\n",
       "    <tr>\n",
       "      <th>4</th>\n",
       "      <td>Global Protocol for Community-Scale Greenhouse...</td>\n",
       "      <td>Commercial/Industrial/Large Residential</td>\n",
       "      <td>Electricity</td>\n",
       "      <td>2009</td>\n",
       "      <td>2236563.0</td>\n",
       "      <td>NaN</td>\n",
       "      <td>NaN</td>\n",
       "      <td>NaN</td>\n",
       "      <td>NaN</td>\n",
       "      <td>NaN</td>\n",
       "      <td>NaN</td>\n",
       "      <td>NaN</td>\n",
       "      <td>NaN</td>\n",
       "    </tr>\n",
       "  </tbody>\n",
       "</table>\n",
       "</div>"
      ],
      "text/plain": [
       "                                            Protocol  \\\n",
       "0  Global Protocol for Community-Scale Greenhouse...   \n",
       "1  Global Protocol for Community-Scale Greenhouse...   \n",
       "2  Global Protocol for Community-Scale Greenhouse...   \n",
       "3  Global Protocol for Community-Scale Greenhouse...   \n",
       "4  Global Protocol for Community-Scale Greenhouse...   \n",
       "\n",
       "                                    Sector       Source  Year (Calendar Year)  \\\n",
       "0  Commercial/Industrial/Large Residential  Electricity                  2005   \n",
       "1  Commercial/Industrial/Large Residential  Electricity                  2006   \n",
       "2  Commercial/Industrial/Large Residential  Electricity                  2007   \n",
       "3  Commercial/Industrial/Large Residential  Electricity                  2008   \n",
       "4  Commercial/Industrial/Large Residential  Electricity                  2009   \n",
       "\n",
       "    GHG Emissions (mt CO2e)   Unnamed: 5  Unnamed: 6 Unnamed: 7  Unnamed: 8  \\\n",
       "0                  2513636.0         NaN         NaN        NaN         NaN   \n",
       "1                  2193105.0         NaN         NaN        NaN         NaN   \n",
       "2                  2506091.0         NaN         NaN        NaN         NaN   \n",
       "3                  2458906.0         NaN         NaN        NaN         NaN   \n",
       "4                  2236563.0         NaN         NaN        NaN         NaN   \n",
       "\n",
       "   Unnamed: 9  Unnamed: 10  Unnamed: 11 Unnamed: 12  \n",
       "0         NaN          NaN          NaN         NaN  \n",
       "1         NaN          NaN          NaN         NaN  \n",
       "2         NaN          NaN          NaN         NaN  \n",
       "3         NaN          NaN          NaN         NaN  \n",
       "4         NaN          NaN          NaN         NaN  "
      ]
     },
     "execution_count": 59,
     "metadata": {},
     "output_type": "execute_result"
    }
   ],
   "source": [
    "df.head()"
   ]
  },
  {
   "cell_type": "code",
   "execution_count": 4,
   "id": "94e881a6",
   "metadata": {},
   "outputs": [
    {
     "data": {
      "image/png": "[encoded data removed]",
      "text/plain": [
       "<Figure size 1000x700 with 1 Axes>"
      ]
     },
     "metadata": {},
     "output_type": "display_data"
    }
   ],
   "source": [
    "# GHG by Sector\n",
    "# Convert 'GHG Emissions (mt CO2e)'to string, remove commas, and convert to float\n",
    "df[' GHG Emissions (mt CO2e) '] = df[' GHG Emissions (mt CO2e) '].astype(str).str.replace(',', '').astype(float)\n",
    "\n",
    "# Aggregate GHG emissions by sector\n",
    "sector_emissions = df.groupby('Sector')[' GHG Emissions (mt CO2e) '].sum().reset_index()\n",
    "\n",
    "# Extract sizes (emissions values) and labels (sector names) for the pie chart\n",
    "sizes = sector_emissions[' GHG Emissions (mt CO2e) '].tolist()  # Ensure this is a list\n",
    "labels = sector_emissions['Sector'].tolist()  # Ensure this is a list\n",
    "\n",
    "plt.figure(figsize=(10, 7))\n",
    "plt.pie(sizes, labels=labels, startangle=90)\n",
    "plt.axis('equal')  # This ensures the pie chart is a circle.\n",
    "plt.show()"
   ]
  },
  {
   "cell_type": "code",
   "execution_count": 83,
   "id": "d405aa36",
   "metadata": {},
   "outputs": [
    {
     "name": "stderr",
     "output_type": "stream",
     "text": [
      "/Users/rnur/opt/anaconda3/lib/python3.9/site-packages/pandas/core/common.py:241: VisibleDeprecationWarning:\n",
      "\n",
      "Creating an ndarray from ragged nested sequences (which is a list-or-tuple of lists-or-tuples-or ndarrays with different lengths or shapes) is deprecated. If you meant to do this, you must specify 'dtype=object' when creating the ndarray.\n",
      "\n"
     ]
    },
    {
     "ename": "TypeError",
     "evalue": "unhashable type: 'Series'",
     "output_type": "error",
     "traceback": [
      "\u001b[0;31m---------------------------------------------------------------------------\u001b[0m",
      "\u001b[0;31mTypeError\u001b[0m                                 Traceback (most recent call last)",
      "\u001b[0;32m/var/folders/0m/dggrq2nn1_bg3617g5g9531w0000gn/T/ipykernel_94241/1810480423.py\u001b[0m in \u001b[0;36m<module>\u001b[0;34m\u001b[0m\n\u001b[1;32m      2\u001b[0m \u001b[0mx_var\u001b[0m\u001b[0;34m=\u001b[0m\u001b[0;34m(\u001b[0m\u001b[0mx_var\u001b[0m\u001b[0;34m)\u001b[0m\u001b[0;34m\u001b[0m\u001b[0;34m\u001b[0m\u001b[0m\n\u001b[1;32m      3\u001b[0m \u001b[0mgroupby_var\u001b[0m \u001b[0;34m=\u001b[0m \u001b[0;34m(\u001b[0m\u001b[0;34m'Sector'\u001b[0m\u001b[0;34m)\u001b[0m\u001b[0;34m\u001b[0m\u001b[0;34m\u001b[0m\u001b[0m\n\u001b[0;32m----> 4\u001b[0;31m \u001b[0mdf_agg\u001b[0m \u001b[0;34m=\u001b[0m \u001b[0mdf\u001b[0m\u001b[0;34m.\u001b[0m\u001b[0mloc\u001b[0m\u001b[0;34m[\u001b[0m\u001b[0;34m:\u001b[0m\u001b[0;34m,\u001b[0m \u001b[0;34m[\u001b[0m\u001b[0mx_var\u001b[0m\u001b[0;34m,\u001b[0m \u001b[0mgroupby_var\u001b[0m\u001b[0;34m]\u001b[0m\u001b[0;34m]\u001b[0m\u001b[0;34m.\u001b[0m\u001b[0mgroupby\u001b[0m\u001b[0;34m(\u001b[0m\u001b[0mgroupby_var\u001b[0m\u001b[0;34m)\u001b[0m\u001b[0;34m\u001b[0m\u001b[0;34m\u001b[0m\u001b[0m\n\u001b[0m\u001b[1;32m      5\u001b[0m \u001b[0mprint\u001b[0m\u001b[0;34m(\u001b[0m\u001b[0mx_var\u001b[0m\u001b[0;34m)\u001b[0m\u001b[0;34m\u001b[0m\u001b[0;34m\u001b[0m\u001b[0m\n",
      "\u001b[0;32m~/opt/anaconda3/lib/python3.9/site-packages/pandas/core/indexing.py\u001b[0m in \u001b[0;36m__getitem__\u001b[0;34m(self, key)\u001b[0m\n\u001b[1;32m    959\u001b[0m             \u001b[0;32mif\u001b[0m \u001b[0mself\u001b[0m\u001b[0;34m.\u001b[0m\u001b[0m_is_scalar_access\u001b[0m\u001b[0;34m(\u001b[0m\u001b[0mkey\u001b[0m\u001b[0;34m)\u001b[0m\u001b[0;34m:\u001b[0m\u001b[0;34m\u001b[0m\u001b[0;34m\u001b[0m\u001b[0m\n\u001b[1;32m    960\u001b[0m                 \u001b[0;32mreturn\u001b[0m \u001b[0mself\u001b[0m\u001b[0;34m.\u001b[0m\u001b[0mobj\u001b[0m\u001b[0;34m.\u001b[0m\u001b[0m_get_value\u001b[0m\u001b[0;34m(\u001b[0m\u001b[0;34m*\u001b[0m\u001b[0mkey\u001b[0m\u001b[0;34m,\u001b[0m \u001b[0mtakeable\u001b[0m\u001b[0;34m=\u001b[0m\u001b[0mself\u001b[0m\u001b[0;34m.\u001b[0m\u001b[0m_takeable\u001b[0m\u001b[0;34m)\u001b[0m\u001b[0;34m\u001b[0m\u001b[0;34m\u001b[0m\u001b[0m\n\u001b[0;32m--> 961\u001b[0;31m             \u001b[0;32mreturn\u001b[0m \u001b[0mself\u001b[0m\u001b[0;34m.\u001b[0m\u001b[0m_getitem_tuple\u001b[0m\u001b[0;34m(\u001b[0m\u001b[0mkey\u001b[0m\u001b[0;34m)\u001b[0m\u001b[0;34m\u001b[0m\u001b[0;34m\u001b[0m\u001b[0m\n\u001b[0m\u001b[1;32m    962\u001b[0m         \u001b[0;32melse\u001b[0m\u001b[0;34m:\u001b[0m\u001b[0;34m\u001b[0m\u001b[0;34m\u001b[0m\u001b[0m\n\u001b[1;32m    963\u001b[0m             \u001b[0;31m# we by definition only have the 0th axis\u001b[0m\u001b[0;34m\u001b[0m\u001b[0;34m\u001b[0m\u001b[0m\n",
      "\u001b[0;32m~/opt/anaconda3/lib/python3.9/site-packages/pandas/core/indexing.py\u001b[0m in \u001b[0;36m_getitem_tuple\u001b[0;34m(self, tup)\u001b[0m\n\u001b[1;32m   1147\u001b[0m             \u001b[0;32mreturn\u001b[0m \u001b[0mself\u001b[0m\u001b[0;34m.\u001b[0m\u001b[0m_multi_take\u001b[0m\u001b[0;34m(\u001b[0m\u001b[0mtup\u001b[0m\u001b[0;34m)\u001b[0m\u001b[0;34m\u001b[0m\u001b[0;34m\u001b[0m\u001b[0m\n\u001b[1;32m   1148\u001b[0m \u001b[0;34m\u001b[0m\u001b[0m\n\u001b[0;32m-> 1149\u001b[0;31m         \u001b[0;32mreturn\u001b[0m \u001b[0mself\u001b[0m\u001b[0;34m.\u001b[0m\u001b[0m_getitem_tuple_same_dim\u001b[0m\u001b[0;34m(\u001b[0m\u001b[0mtup\u001b[0m\u001b[0;34m)\u001b[0m\u001b[0;34m\u001b[0m\u001b[0;34m\u001b[0m\u001b[0m\n\u001b[0m\u001b[1;32m   1150\u001b[0m \u001b[0;34m\u001b[0m\u001b[0m\n\u001b[1;32m   1151\u001b[0m     \u001b[0;32mdef\u001b[0m \u001b[0m_get_label\u001b[0m\u001b[0;34m(\u001b[0m\u001b[0mself\u001b[0m\u001b[0;34m,\u001b[0m \u001b[0mlabel\u001b[0m\u001b[0;34m,\u001b[0m \u001b[0maxis\u001b[0m\u001b[0;34m:\u001b[0m \u001b[0mint\u001b[0m\u001b[0;34m)\u001b[0m\u001b[0;34m:\u001b[0m\u001b[0;34m\u001b[0m\u001b[0;34m\u001b[0m\u001b[0m\n",
      "\u001b[0;32m~/opt/anaconda3/lib/python3.9/site-packages/pandas/core/indexing.py\u001b[0m in \u001b[0;36m_getitem_tuple_same_dim\u001b[0;34m(self, tup)\u001b[0m\n\u001b[1;32m    825\u001b[0m                 \u001b[0;32mcontinue\u001b[0m\u001b[0;34m\u001b[0m\u001b[0;34m\u001b[0m\u001b[0m\n\u001b[1;32m    826\u001b[0m \u001b[0;34m\u001b[0m\u001b[0m\n\u001b[0;32m--> 827\u001b[0;31m             \u001b[0mretval\u001b[0m \u001b[0;34m=\u001b[0m \u001b[0mgetattr\u001b[0m\u001b[0;34m(\u001b[0m\u001b[0mretval\u001b[0m\u001b[0;34m,\u001b[0m \u001b[0mself\u001b[0m\u001b[0;34m.\u001b[0m\u001b[0mname\u001b[0m\u001b[0;34m)\u001b[0m\u001b[0;34m.\u001b[0m\u001b[0m_getitem_axis\u001b[0m\u001b[0;34m(\u001b[0m\u001b[0mkey\u001b[0m\u001b[0;34m,\u001b[0m \u001b[0maxis\u001b[0m\u001b[0;34m=\u001b[0m\u001b[0mi\u001b[0m\u001b[0;34m)\u001b[0m\u001b[0;34m\u001b[0m\u001b[0;34m\u001b[0m\u001b[0m\n\u001b[0m\u001b[1;32m    828\u001b[0m             \u001b[0;31m# We should never have retval.ndim < self.ndim, as that should\u001b[0m\u001b[0;34m\u001b[0m\u001b[0;34m\u001b[0m\u001b[0m\n\u001b[1;32m    829\u001b[0m             \u001b[0;31m#  be handled by the _getitem_lowerdim call above.\u001b[0m\u001b[0;34m\u001b[0m\u001b[0;34m\u001b[0m\u001b[0m\n",
      "\u001b[0;32m~/opt/anaconda3/lib/python3.9/site-packages/pandas/core/indexing.py\u001b[0m in \u001b[0;36m_getitem_axis\u001b[0;34m(self, key, axis)\u001b[0m\n\u001b[1;32m   1192\u001b[0m                     \u001b[0;32mraise\u001b[0m \u001b[0mValueError\u001b[0m\u001b[0;34m(\u001b[0m\u001b[0;34m\"Cannot index with multidimensional key\"\u001b[0m\u001b[0;34m)\u001b[0m\u001b[0;34m\u001b[0m\u001b[0;34m\u001b[0m\u001b[0m\n\u001b[1;32m   1193\u001b[0m \u001b[0;34m\u001b[0m\u001b[0m\n\u001b[0;32m-> 1194\u001b[0;31m                 \u001b[0;32mreturn\u001b[0m \u001b[0mself\u001b[0m\u001b[0;34m.\u001b[0m\u001b[0m_getitem_iterable\u001b[0m\u001b[0;34m(\u001b[0m\u001b[0mkey\u001b[0m\u001b[0;34m,\u001b[0m \u001b[0maxis\u001b[0m\u001b[0;34m=\u001b[0m\u001b[0maxis\u001b[0m\u001b[0;34m)\u001b[0m\u001b[0;34m\u001b[0m\u001b[0;34m\u001b[0m\u001b[0m\n\u001b[0m\u001b[1;32m   1195\u001b[0m \u001b[0;34m\u001b[0m\u001b[0m\n\u001b[1;32m   1196\u001b[0m             \u001b[0;31m# nested tuple slicing\u001b[0m\u001b[0;34m\u001b[0m\u001b[0;34m\u001b[0m\u001b[0m\n",
      "\u001b[0;32m~/opt/anaconda3/lib/python3.9/site-packages/pandas/core/indexing.py\u001b[0m in \u001b[0;36m_getitem_iterable\u001b[0;34m(self, key, axis)\u001b[0m\n\u001b[1;32m   1130\u001b[0m \u001b[0;34m\u001b[0m\u001b[0m\n\u001b[1;32m   1131\u001b[0m         \u001b[0;31m# A collection of keys\u001b[0m\u001b[0;34m\u001b[0m\u001b[0;34m\u001b[0m\u001b[0m\n\u001b[0;32m-> 1132\u001b[0;31m         \u001b[0mkeyarr\u001b[0m\u001b[0;34m,\u001b[0m \u001b[0mindexer\u001b[0m \u001b[0;34m=\u001b[0m \u001b[0mself\u001b[0m\u001b[0;34m.\u001b[0m\u001b[0m_get_listlike_indexer\u001b[0m\u001b[0;34m(\u001b[0m\u001b[0mkey\u001b[0m\u001b[0;34m,\u001b[0m \u001b[0maxis\u001b[0m\u001b[0;34m)\u001b[0m\u001b[0;34m\u001b[0m\u001b[0;34m\u001b[0m\u001b[0m\n\u001b[0m\u001b[1;32m   1133\u001b[0m         return self.obj._reindex_with_indexers(\n\u001b[1;32m   1134\u001b[0m             \u001b[0;34m{\u001b[0m\u001b[0maxis\u001b[0m\u001b[0;34m:\u001b[0m \u001b[0;34m[\u001b[0m\u001b[0mkeyarr\u001b[0m\u001b[0;34m,\u001b[0m \u001b[0mindexer\u001b[0m\u001b[0;34m]\u001b[0m\u001b[0;34m}\u001b[0m\u001b[0;34m,\u001b[0m \u001b[0mcopy\u001b[0m\u001b[0;34m=\u001b[0m\u001b[0;32mTrue\u001b[0m\u001b[0;34m,\u001b[0m \u001b[0mallow_dups\u001b[0m\u001b[0;34m=\u001b[0m\u001b[0;32mTrue\u001b[0m\u001b[0;34m\u001b[0m\u001b[0;34m\u001b[0m\u001b[0m\n",
      "\u001b[0;32m~/opt/anaconda3/lib/python3.9/site-packages/pandas/core/indexing.py\u001b[0m in \u001b[0;36m_get_listlike_indexer\u001b[0;34m(self, key, axis)\u001b[0m\n\u001b[1;32m   1328\u001b[0m         \u001b[0maxis_name\u001b[0m \u001b[0;34m=\u001b[0m \u001b[0mself\u001b[0m\u001b[0;34m.\u001b[0m\u001b[0mobj\u001b[0m\u001b[0;34m.\u001b[0m\u001b[0m_get_axis_name\u001b[0m\u001b[0;34m(\u001b[0m\u001b[0maxis\u001b[0m\u001b[0;34m)\u001b[0m\u001b[0;34m\u001b[0m\u001b[0;34m\u001b[0m\u001b[0m\n\u001b[1;32m   1329\u001b[0m \u001b[0;34m\u001b[0m\u001b[0m\n\u001b[0;32m-> 1330\u001b[0;31m         \u001b[0mkeyarr\u001b[0m\u001b[0;34m,\u001b[0m \u001b[0mindexer\u001b[0m \u001b[0;34m=\u001b[0m \u001b[0max\u001b[0m\u001b[0;34m.\u001b[0m\u001b[0m_get_indexer_strict\u001b[0m\u001b[0;34m(\u001b[0m\u001b[0mkey\u001b[0m\u001b[0;34m,\u001b[0m \u001b[0maxis_name\u001b[0m\u001b[0;34m)\u001b[0m\u001b[0;34m\u001b[0m\u001b[0;34m\u001b[0m\u001b[0m\n\u001b[0m\u001b[1;32m   1331\u001b[0m \u001b[0;34m\u001b[0m\u001b[0m\n\u001b[1;32m   1332\u001b[0m         \u001b[0;32mreturn\u001b[0m \u001b[0mkeyarr\u001b[0m\u001b[0;34m,\u001b[0m \u001b[0mindexer\u001b[0m\u001b[0;34m\u001b[0m\u001b[0;34m\u001b[0m\u001b[0m\n",
      "\u001b[0;32m~/opt/anaconda3/lib/python3.9/site-packages/pandas/core/indexes/base.py\u001b[0m in \u001b[0;36m_get_indexer_strict\u001b[0;34m(self, key, axis_name)\u001b[0m\n\u001b[1;32m   5789\u001b[0m \u001b[0;34m\u001b[0m\u001b[0m\n\u001b[1;32m   5790\u001b[0m         \u001b[0;32mif\u001b[0m \u001b[0mself\u001b[0m\u001b[0;34m.\u001b[0m\u001b[0m_index_as_unique\u001b[0m\u001b[0;34m:\u001b[0m\u001b[0;34m\u001b[0m\u001b[0;34m\u001b[0m\u001b[0m\n\u001b[0;32m-> 5791\u001b[0;31m             \u001b[0mindexer\u001b[0m \u001b[0;34m=\u001b[0m \u001b[0mself\u001b[0m\u001b[0;34m.\u001b[0m\u001b[0mget_indexer_for\u001b[0m\u001b[0;34m(\u001b[0m\u001b[0mkeyarr\u001b[0m\u001b[0;34m)\u001b[0m\u001b[0;34m\u001b[0m\u001b[0;34m\u001b[0m\u001b[0m\n\u001b[0m\u001b[1;32m   5792\u001b[0m             \u001b[0mkeyarr\u001b[0m \u001b[0;34m=\u001b[0m \u001b[0mself\u001b[0m\u001b[0;34m.\u001b[0m\u001b[0mreindex\u001b[0m\u001b[0;34m(\u001b[0m\u001b[0mkeyarr\u001b[0m\u001b[0;34m)\u001b[0m\u001b[0;34m[\u001b[0m\u001b[0;36m0\u001b[0m\u001b[0;34m]\u001b[0m\u001b[0;34m\u001b[0m\u001b[0;34m\u001b[0m\u001b[0m\n\u001b[1;32m   5793\u001b[0m         \u001b[0;32melse\u001b[0m\u001b[0;34m:\u001b[0m\u001b[0;34m\u001b[0m\u001b[0;34m\u001b[0m\u001b[0m\n",
      "\u001b[0;32m~/opt/anaconda3/lib/python3.9/site-packages/pandas/core/indexes/base.py\u001b[0m in \u001b[0;36mget_indexer_for\u001b[0;34m(self, target)\u001b[0m\n\u001b[1;32m   5776\u001b[0m         \"\"\"\n\u001b[1;32m   5777\u001b[0m         \u001b[0;32mif\u001b[0m \u001b[0mself\u001b[0m\u001b[0;34m.\u001b[0m\u001b[0m_index_as_unique\u001b[0m\u001b[0;34m:\u001b[0m\u001b[0;34m\u001b[0m\u001b[0;34m\u001b[0m\u001b[0m\n\u001b[0;32m-> 5778\u001b[0;31m             \u001b[0;32mreturn\u001b[0m \u001b[0mself\u001b[0m\u001b[0;34m.\u001b[0m\u001b[0mget_indexer\u001b[0m\u001b[0;34m(\u001b[0m\u001b[0mtarget\u001b[0m\u001b[0;34m)\u001b[0m\u001b[0;34m\u001b[0m\u001b[0;34m\u001b[0m\u001b[0m\n\u001b[0m\u001b[1;32m   5779\u001b[0m         \u001b[0mindexer\u001b[0m\u001b[0;34m,\u001b[0m \u001b[0m_\u001b[0m \u001b[0;34m=\u001b[0m \u001b[0mself\u001b[0m\u001b[0;34m.\u001b[0m\u001b[0mget_indexer_non_unique\u001b[0m\u001b[0;34m(\u001b[0m\u001b[0mtarget\u001b[0m\u001b[0;34m)\u001b[0m\u001b[0;34m\u001b[0m\u001b[0;34m\u001b[0m\u001b[0m\n\u001b[1;32m   5780\u001b[0m         \u001b[0;32mreturn\u001b[0m \u001b[0mindexer\u001b[0m\u001b[0;34m\u001b[0m\u001b[0;34m\u001b[0m\u001b[0m\n",
      "\u001b[0;32m~/opt/anaconda3/lib/python3.9/site-packages/pandas/core/indexes/base.py\u001b[0m in \u001b[0;36mget_indexer\u001b[0;34m(self, target, method, limit, tolerance)\u001b[0m\n\u001b[1;32m   3790\u001b[0m             )\n\u001b[1;32m   3791\u001b[0m \u001b[0;34m\u001b[0m\u001b[0m\n\u001b[0;32m-> 3792\u001b[0;31m         \u001b[0;32mreturn\u001b[0m \u001b[0mself\u001b[0m\u001b[0;34m.\u001b[0m\u001b[0m_get_indexer\u001b[0m\u001b[0;34m(\u001b[0m\u001b[0mtarget\u001b[0m\u001b[0;34m,\u001b[0m \u001b[0mmethod\u001b[0m\u001b[0;34m,\u001b[0m \u001b[0mlimit\u001b[0m\u001b[0;34m,\u001b[0m \u001b[0mtolerance\u001b[0m\u001b[0;34m)\u001b[0m\u001b[0;34m\u001b[0m\u001b[0;34m\u001b[0m\u001b[0m\n\u001b[0m\u001b[1;32m   3793\u001b[0m \u001b[0;34m\u001b[0m\u001b[0m\n\u001b[1;32m   3794\u001b[0m     def _get_indexer(\n",
      "\u001b[0;32m~/opt/anaconda3/lib/python3.9/site-packages/pandas/core/indexes/base.py\u001b[0m in \u001b[0;36m_get_indexer\u001b[0;34m(self, target, method, limit, tolerance)\u001b[0m\n\u001b[1;32m   3815\u001b[0m                 )\n\u001b[1;32m   3816\u001b[0m \u001b[0;34m\u001b[0m\u001b[0m\n\u001b[0;32m-> 3817\u001b[0;31m             \u001b[0mindexer\u001b[0m \u001b[0;34m=\u001b[0m \u001b[0mself\u001b[0m\u001b[0;34m.\u001b[0m\u001b[0m_engine\u001b[0m\u001b[0;34m.\u001b[0m\u001b[0mget_indexer\u001b[0m\u001b[0;34m(\u001b[0m\u001b[0mtgt_values\u001b[0m\u001b[0;34m)\u001b[0m\u001b[0;34m\u001b[0m\u001b[0;34m\u001b[0m\u001b[0m\n\u001b[0m\u001b[1;32m   3818\u001b[0m \u001b[0;34m\u001b[0m\u001b[0m\n\u001b[1;32m   3819\u001b[0m         \u001b[0;32mreturn\u001b[0m \u001b[0mensure_platform_int\u001b[0m\u001b[0;34m(\u001b[0m\u001b[0mindexer\u001b[0m\u001b[0;34m)\u001b[0m\u001b[0;34m\u001b[0m\u001b[0;34m\u001b[0m\u001b[0m\n",
      "\u001b[0;32m~/opt/anaconda3/lib/python3.9/site-packages/pandas/_libs/index.pyx\u001b[0m in \u001b[0;36mpandas._libs.index.IndexEngine.get_indexer\u001b[0;34m()\u001b[0m\n",
      "\u001b[0;32mpandas/_libs/hashtable_class_helper.pxi\u001b[0m in \u001b[0;36mpandas._libs.hashtable.PyObjectHashTable.lookup\u001b[0;34m()\u001b[0m\n",
      "\u001b[0;31mTypeError\u001b[0m: unhashable type: 'Series'"
     ]
    }
   ],
   "source": [
    "x_var = df[' GHG Emissions (mt CO2e) '].astype(int)\n",
    "x_var=(x_var)\n",
    "groupby_var = ('Sector')\n",
    "df_agg = df.loc[:, [x_var, groupby_var]].groupby(groupby_var)\n",
    "print(x_var)"
   ]
  },
  {
   "cell_type": "code",
   "execution_count": 85,
   "id": "b3087648",
   "metadata": {},
   "outputs": [
    {
     "data": {
      "image/png": "[encoded data removed]",
      "text/plain": [
       "<Figure size 1200x640 with 1 Axes>"
      ]
     },
     "metadata": {},
     "output_type": "display_data"
    }
   ],
   "source": [
    "# https://www.machinelearningplus.com/plots/top-50-matplotlib-visualizations-the-master-plots-python/#2.-Bubble-plot-with-Encircling\n",
    "\n",
    "import numpy as np\n",
    "\n",
    "# Prepare data\n",
    "x_var = (' GHG Emissions (mt CO2e) ')\n",
    "groupby_var = ('Sector')\n",
    "df_agg = df.loc[:, [x_var, groupby_var]].groupby(groupby_var)\n",
    "vals = [df[x_var].values.tolist() for i, df in df_agg]\n",
    "\n",
    "# Draw\n",
    "plt.figure(figsize=(15,8), dpi= 80)\n",
    "colors = [plt.cm.Spectral(i/float(len(vals)-1)) for i in range(len(vals))]\n",
    "n, bins, patches = plt.hist(vals, 30, stacked=True, density=False, color=colors[:len(vals)])\n",
    "\n",
    "# Decoration\n",
    "plt.legend({group:col for group, col in zip(np.unique(df[groupby_var]).tolist(), colors[:len(vals)])})\n",
    "plt.title(f\"Stacked Histogram of ${x_var}$ colored by ${groupby_var}$\", fontsize=10)\n",
    "plt.xlabel(x_var)\n",
    "plt.ylabel(\"Frequency\")\n",
    "plt.ylim(0, 25)\n",
    "plt.xticks(ticks=bins[::3], labels=[round(b,1) for b in bins[::3]])\n",
    "plt.show()"
   ]
  },
  {
   "cell_type": "code",
   "execution_count": 6,
   "id": "8adf69f4",
   "metadata": {},
   "outputs": [
    {
     "name": "stdout",
     "output_type": "stream",
     "text": [
      "Most Efficient Source in All Sectors: Fugitive gas\n",
      "Most Efficient Source in Commercial/Industrial/Large Residential: Steam\n",
      "Most Efficient Source in Small Residential: Steam\n",
      "Most Efficient Source in Transportation: Massport CNG\n",
      "Most Efficient Source in Waste: Compost\n"
     ]
    }
   ],
   "source": [
    "# Group by 'Sector' and 'Source', then sum GHG emissions\n",
    "emissions_summary = df.groupby(['Sector', 'Source'])[' GHG Emissions (mt CO2e) '].sum().reset_index()\n",
    "# Initialize dictionary \n",
    "most_efficient_sources = {}\n",
    "\n",
    "# Iterate through each  sector\n",
    "for sector in emissions_summary['Sector'].unique():\n",
    "    sector_data = emissions_summary[emissions_summary['Sector'] == sector]\n",
    "    most_efficient_row = sector_data.loc[sector_data[' GHG Emissions (mt CO2e) '].idxmin()]\n",
    "    \n",
    "    # Update dictionary\n",
    "    most_efficient_sources[sector] = most_efficient_row['Source']\n",
    "# Print \n",
    "for sector, source in most_efficient_sources.items():\n",
    "    print(f\"Most Efficient Source in {sector}: {source}\")"
   ]
  },
  {
   "cell_type": "code",
   "execution_count": 30,
   "id": "e331640a",
   "metadata": {},
   "outputs": [
    {
     "data": {
      "image/png": "[encoded data removed]",
      "text/plain": [
       "<Figure size 1200x800 with 2 Axes>"
      ]
     },
     "metadata": {},
     "output_type": "display_data"
    }
   ],
   "source": [
    "# Assuming your DataFrame 'df' includes 'Source' and it's properly cleaned\n",
    "# Create a pivot table\n",
    "pivot_table = df.pivot_table(values=' GHG Emissions (mt CO2e) ', index='Source', columns='Sector', aggfunc='sum', fill_value=0)\n",
    "\n",
    "# Generate the heat map\n",
    "plt.figure(figsize=(12, 8))\n",
    "sns.heatmap(pivot_table, annot=True, cmap='Reds', fmt=\".0f\")\n",
    "plt.title('Heat Map of GHG Emissions by Sector and Source')\n",
    "plt.xlabel('Source')\n",
    "plt.ylabel('Sector')\n",
    "plt.show()"
   ]
  },
  {
   "cell_type": "code",
   "execution_count": 12,
   "id": "8266e1e8",
   "metadata": {},
   "outputs": [
    {
     "data": {
      "application/vnd.plotly.v1+json": {
       "config": {
        "plotlyServerURL": "https://plot.ly"
       },
       "data": [
        {
         "link": {
          "color": [
           "rgba(0, 0, 0, 0.6)",
           "rgba(1, 10, 20, 0.6)",
           "rgba(2, 20, 40, 0.6)",
           "rgba(3, 30, 60, 0.6)",
           "rgba(4, 40, 80, 0.6)",
           "rgba(5, 50, 100, 0.6)",
           "rgba(6, 60, 120, 0.6)",
           "rgba(7, 70, 140, 0.6)",
           "rgba(8, 80, 160, 0.6)",
           "rgba(9, 90, 180, 0.6)",
           "rgba(10, 100, 200, 0.6)",
           "rgba(11, 110, 220, 0.6)",
           "rgba(12, 120, 240, 0.6)",
           "rgba(13, 130, 260, 0.6)",
           "rgba(14, 140, 280, 0.6)",
           "rgba(15, 150, 300, 0.6)",
           "rgba(16, 160, 320, 0.6)",
           "rgba(17, 170, 340, 0.6)",
           "rgba(18, 180, 360, 0.6)",
           "rgba(19, 190, 380, 0.6)",
           "rgba(20, 200, 400, 0.6)",
           "rgba(21, 210, 420, 0.6)",
           "rgba(22, 220, 440, 0.6)",
           "rgba(23, 230, 460, 0.6)",
           "rgba(24, 240, 480, 0.6)",
           "rgba(25, 250, 500, 0.6)",
           "rgba(26, 260, 520, 0.6)",
           "rgba(27, 270, 540, 0.6)",
           "rgba(28, 280, 560, 0.6)",
           "rgba(29, 290, 580, 0.6)",
           "rgba(30, 300, 600, 0.6)",
           "rgba(31, 310, 620, 0.6)",
           "rgba(32, 320, 640, 0.6)",
           "rgba(33, 330, 660, 0.6)",
           "rgba(34, 340, 680, 0.6)",
           "rgba(35, 350, 700, 0.6)",
           "rgba(36, 360, 720, 0.6)",
           "rgba(37, 370, 740, 0.6)",
           "rgba(38, 380, 760, 0.6)",
           "rgba(39, 390, 780, 0.6)",
           "rgba(40, 400, 800, 0.6)",
           "rgba(41, 410, 820, 0.6)",
           "rgba(42, 420, 840, 0.6)",
           "rgba(43, 430, 860, 0.6)",
           "rgba(44, 440, 880, 0.6)",
           "rgba(45, 450, 900, 0.6)",
           "rgba(46, 460, 920, 0.6)",
           "rgba(47, 470, 940, 0.6)",
           "rgba(48, 480, 960, 0.6)",
           "rgba(49, 490, 980, 0.6)",
           "rgba(50, 500, 1000, 0.6)",
           "rgba(51, 510, 1020, 0.6)",
           "rgba(52, 520, 1040, 0.6)",
           "rgba(53, 530, 1060, 0.6)",
           "rgba(54, 540, 1080, 0.6)",
           "rgba(55, 550, 1100, 0.6)",
           "rgba(56, 560, 1120, 0.6)",
           "rgba(57, 570, 1140, 0.6)",
           "rgba(58, 580, 1160, 0.6)",
           "rgba(59, 590, 1180, 0.6)",
           "rgba(60, 600, 1200, 0.6)",
           "rgba(61, 610, 1220, 0.6)",
           "rgba(62, 620, 1240, 0.6)",
           "rgba(63, 630, 1260, 0.6)",
           "rgba(64, 640, 1280, 0.6)",
           "rgba(65, 650, 1300, 0.6)",
           "rgba(66, 660, 1320, 0.6)",
           "rgba(67, 670, 1340, 0.6)",
           "rgba(68, 680, 1360, 0.6)",
           "rgba(69, 690, 1380, 0.6)",
           "rgba(70, 700, 1400, 0.6)",
           "rgba(71, 710, 1420, 0.6)",
           "rgba(72, 720, 1440, 0.6)",
           "rgba(73, 730, 1460, 0.6)",
           "rgba(74, 740, 1480, 0.6)",
           "rgba(75, 750, 1500, 0.6)",
           "rgba(76, 760, 1520, 0.6)",
           "rgba(77, 770, 1540, 0.6)",
           "rgba(78, 780, 1560, 0.6)",
           "rgba(79, 790, 1580, 0.6)",
           "rgba(80, 800, 1600, 0.6)",
           "rgba(81, 810, 1620, 0.6)",
           "rgba(82, 820, 1640, 0.6)",
           "rgba(83, 830, 1660, 0.6)",
           "rgba(84, 840, 1680, 0.6)",
           "rgba(85, 850, 1700, 0.6)",
           "rgba(86, 860, 1720, 0.6)",
           "rgba(87, 870, 1740, 0.6)",
           "rgba(88, 880, 1760, 0.6)",
           "rgba(89, 890, 1780, 0.6)",
           "rgba(90, 900, 1800, 0.6)",
           "rgba(91, 910, 1820, 0.6)",
           "rgba(92, 920, 1840, 0.6)",
           "rgba(93, 930, 1860, 0.6)",
           "rgba(94, 940, 1880, 0.6)",
           "rgba(95, 950, 1900, 0.6)",
           "rgba(96, 960, 1920, 0.6)",
           "rgba(97, 970, 1940, 0.6)",
           "rgba(98, 980, 1960, 0.6)",
           "rgba(99, 990, 1980, 0.6)",
           "rgba(100, 1000, 2000, 0.6)",
           "rgba(101, 1010, 2020, 0.6)",
           "rgba(102, 1020, 2040, 0.6)",
           "rgba(103, 1030, 2060, 0.6)",
           "rgba(104, 1040, 2080, 0.6)",
           "rgba(105, 1050, 2100, 0.6)",
           "rgba(106, 1060, 2120, 0.6)",
           "rgba(107, 1070, 2140, 0.6)",
           "rgba(108, 1080, 2160, 0.6)",
           "rgba(109, 1090, 2180, 0.6)",
           "rgba(110, 1100, 2200, 0.6)",
           "rgba(111, 1110, 2220, 0.6)",
           "rgba(112, 1120, 2240, 0.6)",
           "rgba(113, 1130, 2260, 0.6)",
           "rgba(114, 1140, 2280, 0.6)",
           "rgba(115, 1150, 2300, 0.6)",
           "rgba(116, 1160, 2320, 0.6)",
           "rgba(117, 1170, 2340, 0.6)",
           "rgba(118, 1180, 2360, 0.6)",
           "rgba(119, 1190, 2380, 0.6)",
           "rgba(120, 1200, 2400, 0.6)",
           "rgba(121, 1210, 2420, 0.6)",
           "rgba(122, 1220, 2440, 0.6)",
           "rgba(123, 1230, 2460, 0.6)",
           "rgba(124, 1240, 2480, 0.6)",
           "rgba(125, 1250, 2500, 0.6)",
           "rgba(126, 1260, 2520, 0.6)",
           "rgba(127, 1270, 2540, 0.6)",
           "rgba(128, 1280, 2560, 0.6)",
           "rgba(129, 1290, 2580, 0.6)",
           "rgba(130, 1300, 2600, 0.6)",
           "rgba(131, 1310, 2620, 0.6)",
           "rgba(132, 1320, 2640, 0.6)",
           "rgba(133, 1330, 2660, 0.6)",
           "rgba(134, 1340, 2680, 0.6)",
           "rgba(135, 1350, 2700, 0.6)",
           "rgba(136, 1360, 2720, 0.6)",
           "rgba(137, 1370, 2740, 0.6)",
           "rgba(138, 1380, 2760, 0.6)",
           "rgba(139, 1390, 2780, 0.6)",
           "rgba(140, 1400, 2800, 0.6)",
           "rgba(141, 1410, 2820, 0.6)",
           "rgba(142, 1420, 2840, 0.6)",
           "rgba(143, 1430, 2860, 0.6)",
           "rgba(144, 1440, 2880, 0.6)",
           "rgba(145, 1450, 2900, 0.6)",
           "rgba(146, 1460, 2920, 0.6)",
           "rgba(147, 1470, 2940, 0.6)",
           "rgba(148, 1480, 2960, 0.6)",
           "rgba(149, 1490, 2980, 0.6)",
           "rgba(150, 1500, 3000, 0.6)",
           "rgba(151, 1510, 3020, 0.6)",
           "rgba(152, 1520, 3040, 0.6)",
           "rgba(153, 1530, 3060, 0.6)",
           "rgba(154, 1540, 3080, 0.6)",
           "rgba(155, 1550, 3100, 0.6)",
           "rgba(156, 1560, 3120, 0.6)",
           "rgba(157, 1570, 3140, 0.6)",
           "rgba(158, 1580, 3160, 0.6)",
           "rgba(159, 1590, 3180, 0.6)",
           "rgba(160, 1600, 3200, 0.6)",
           "rgba(161, 1610, 3220, 0.6)",
           "rgba(162, 1620, 3240, 0.6)",
           "rgba(163, 1630, 3260, 0.6)",
           "rgba(164, 1640, 3280, 0.6)",
           "rgba(165, 1650, 3300, 0.6)",
           "rgba(166, 1660, 3320, 0.6)",
           "rgba(167, 1670, 3340, 0.6)",
           "rgba(168, 1680, 3360, 0.6)",
           "rgba(169, 1690, 3380, 0.6)",
           "rgba(170, 1700, 3400, 0.6)",
           "rgba(171, 1710, 3420, 0.6)",
           "rgba(172, 1720, 3440, 0.6)",
           "rgba(173, 1730, 3460, 0.6)",
           "rgba(174, 1740, 3480, 0.6)",
           "rgba(175, 1750, 3500, 0.6)",
           "rgba(176, 1760, 3520, 0.6)",
           "rgba(177, 1770, 3540, 0.6)",
           "rgba(178, 1780, 3560, 0.6)",
           "rgba(179, 1790, 3580, 0.6)",
           "rgba(180, 1800, 3600, 0.6)",
           "rgba(181, 1810, 3620, 0.6)",
           "rgba(182, 1820, 3640, 0.6)",
           "rgba(183, 1830, 3660, 0.6)",
           "rgba(184, 1840, 3680, 0.6)",
           "rgba(185, 1850, 3700, 0.6)",
           "rgba(186, 1860, 3720, 0.6)",
           "rgba(187, 1870, 3740, 0.6)",
           "rgba(188, 1880, 3760, 0.6)",
           "rgba(189, 1890, 3780, 0.6)",
           "rgba(190, 1900, 3800, 0.6)",
           "rgba(191, 1910, 3820, 0.6)",
           "rgba(192, 1920, 3840, 0.6)",
           "rgba(193, 1930, 3860, 0.6)",
           "rgba(194, 1940, 3880, 0.6)",
           "rgba(195, 1950, 3900, 0.6)",
           "rgba(196, 1960, 3920, 0.6)",
           "rgba(197, 1970, 3940, 0.6)",
           "rgba(198, 1980, 3960, 0.6)",
           "rgba(199, 1990, 3980, 0.6)",
           "rgba(200, 2000, 4000, 0.6)",
           "rgba(201, 2010, 4020, 0.6)",
           "rgba(202, 2020, 4040, 0.6)",
           "rgba(203, 2030, 4060, 0.6)",
           "rgba(204, 2040, 4080, 0.6)",
           "rgba(205, 2050, 4100, 0.6)",
           "rgba(206, 2060, 4120, 0.6)",
           "rgba(207, 2070, 4140, 0.6)",
           "rgba(208, 2080, 4160, 0.6)",
           "rgba(209, 2090, 4180, 0.6)",
           "rgba(210, 2100, 4200, 0.6)",
           "rgba(211, 2110, 4220, 0.6)",
           "rgba(212, 2120, 4240, 0.6)",
           "rgba(213, 2130, 4260, 0.6)",
           "rgba(214, 2140, 4280, 0.6)",
           "rgba(215, 2150, 4300, 0.6)",
           "rgba(216, 2160, 4320, 0.6)",
           "rgba(217, 2170, 4340, 0.6)",
           "rgba(218, 2180, 4360, 0.6)",
           "rgba(219, 2190, 4380, 0.6)",
           "rgba(220, 2200, 4400, 0.6)",
           "rgba(221, 2210, 4420, 0.6)",
           "rgba(222, 2220, 4440, 0.6)",
           "rgba(223, 2230, 4460, 0.6)",
           "rgba(224, 2240, 4480, 0.6)",
           "rgba(225, 2250, 4500, 0.6)",
           "rgba(226, 2260, 4520, 0.6)",
           "rgba(227, 2270, 4540, 0.6)",
           "rgba(228, 2280, 4560, 0.6)",
           "rgba(229, 2290, 4580, 0.6)",
           "rgba(230, 2300, 4600, 0.6)",
           "rgba(231, 2310, 4620, 0.6)",
           "rgba(232, 2320, 4640, 0.6)",
           "rgba(233, 2330, 4660, 0.6)",
           "rgba(234, 2340, 4680, 0.6)",
           "rgba(235, 2350, 4700, 0.6)",
           "rgba(236, 2360, 4720, 0.6)",
           "rgba(237, 2370, 4740, 0.6)",
           "rgba(238, 2380, 4760, 0.6)",
           "rgba(239, 2390, 4780, 0.6)",
           "rgba(240, 2400, 4800, 0.6)",
           "rgba(241, 2410, 4820, 0.6)",
           "rgba(242, 2420, 4840, 0.6)",
           "rgba(243, 2430, 4860, 0.6)",
           "rgba(244, 2440, 4880, 0.6)",
           "rgba(245, 2450, 4900, 0.6)",
           "rgba(246, 2460, 4920, 0.6)",
           "rgba(247, 2470, 4940, 0.6)",
           "rgba(248, 2480, 4960, 0.6)",
           "rgba(249, 2490, 4980, 0.6)",
           "rgba(250, 2500, 5000, 0.6)",
           "rgba(251, 2510, 5020, 0.6)",
           "rgba(252, 2520, 5040, 0.6)",
           "rgba(253, 2530, 5060, 0.6)",
           "rgba(254, 2540, 5080, 0.6)",
           "rgba(255, 2550, 5100, 0.6)",
           "rgba(256, 2560, 5120, 0.6)",
           "rgba(257, 2570, 5140, 0.6)",
           "rgba(258, 2580, 5160, 0.6)",
           "rgba(259, 2590, 5180, 0.6)",
           "rgba(260, 2600, 5200, 0.6)",
           "rgba(261, 2610, 5220, 0.6)",
           "rgba(262, 2620, 5240, 0.6)",
           "rgba(263, 2630, 5260, 0.6)",
           "rgba(264, 2640, 5280, 0.6)",
           "rgba(265, 2650, 5300, 0.6)",
           "rgba(266, 2660, 5320, 0.6)",
           "rgba(267, 2670, 5340, 0.6)",
           "rgba(268, 2680, 5360, 0.6)",
           "rgba(269, 2690, 5380, 0.6)",
           "rgba(270, 2700, 5400, 0.6)",
           "rgba(271, 2710, 5420, 0.6)",
           "rgba(272, 2720, 5440, 0.6)",
           "rgba(273, 2730, 5460, 0.6)",
           "rgba(274, 2740, 5480, 0.6)",
           "rgba(275, 2750, 5500, 0.6)",
           "rgba(276, 2760, 5520, 0.6)",
           "rgba(277, 2770, 5540, 0.6)",
           "rgba(278, 2780, 5560, 0.6)",
           "rgba(279, 2790, 5580, 0.6)",
           "rgba(280, 2800, 5600, 0.6)",
           "rgba(281, 2810, 5620, 0.6)",
           "rgba(282, 2820, 5640, 0.6)",
           "rgba(283, 2830, 5660, 0.6)",
           "rgba(284, 2840, 5680, 0.6)",
           "rgba(285, 2850, 5700, 0.6)",
           "rgba(286, 2860, 5720, 0.6)",
           "rgba(287, 2870, 5740, 0.6)",
           "rgba(288, 2880, 5760, 0.6)",
           "rgba(289, 2890, 5780, 0.6)",
           "rgba(290, 2900, 5800, 0.6)",
           "rgba(291, 2910, 5820, 0.6)",
           "rgba(292, 2920, 5840, 0.6)",
           "rgba(293, 2930, 5860, 0.6)",
           "rgba(294, 2940, 5880, 0.6)",
           "rgba(295, 2950, 5900, 0.6)",
           "rgba(296, 2960, 5920, 0.6)",
           "rgba(297, 2970, 5940, 0.6)",
           "rgba(298, 2980, 5960, 0.6)",
           "rgba(299, 2990, 5980, 0.6)",
           "rgba(300, 3000, 6000, 0.6)",
           "rgba(301, 3010, 6020, 0.6)",
           "rgba(302, 3020, 6040, 0.6)",
           "rgba(303, 3030, 6060, 0.6)",
           "rgba(304, 3040, 6080, 0.6)",
           "rgba(305, 3050, 6100, 0.6)",
           "rgba(306, 3060, 6120, 0.6)",
           "rgba(307, 3070, 6140, 0.6)",
           "rgba(308, 3080, 6160, 0.6)",
           "rgba(309, 3090, 6180, 0.6)",
           "rgba(310, 3100, 6200, 0.6)",
           "rgba(311, 3110, 6220, 0.6)",
           "rgba(312, 3120, 6240, 0.6)",
           "rgba(313, 3130, 6260, 0.6)",
           "rgba(314, 3140, 6280, 0.6)",
           "rgba(315, 3150, 6300, 0.6)",
           "rgba(316, 3160, 6320, 0.6)",
           "rgba(317, 3170, 6340, 0.6)",
           "rgba(318, 3180, 6360, 0.6)",
           "rgba(319, 3190, 6380, 0.6)",
           "rgba(320, 3200, 6400, 0.6)",
           "rgba(321, 3210, 6420, 0.6)",
           "rgba(322, 3220, 6440, 0.6)",
           "rgba(323, 3230, 6460, 0.6)",
           "rgba(324, 3240, 6480, 0.6)",
           "rgba(325, 3250, 6500, 0.6)",
           "rgba(326, 3260, 6520, 0.6)",
           "rgba(327, 3270, 6540, 0.6)",
           "rgba(328, 3280, 6560, 0.6)",
           "rgba(329, 3290, 6580, 0.6)",
           "rgba(330, 3300, 6600, 0.6)",
           "rgba(331, 3310, 6620, 0.6)",
           "rgba(332, 3320, 6640, 0.6)",
           "rgba(333, 3330, 6660, 0.6)",
           "rgba(334, 3340, 6680, 0.6)",
           "rgba(335, 3350, 6700, 0.6)",
           "rgba(336, 3360, 6720, 0.6)",
           "rgba(337, 3370, 6740, 0.6)",
           "rgba(338, 3380, 6760, 0.6)",
           "rgba(339, 3390, 6780, 0.6)",
           "rgba(340, 3400, 6800, 0.6)",
           "rgba(341, 3410, 6820, 0.6)"
          ],
          "source": [
           0,
           0,
           0,
           0,
           0,
           0,
           0,
           0,
           0,
           0,
           0,
           0,
           0,
           0,
           0,
           0,
           0,
           0,
           0,
           0,
           0,
           0,
           0,
           0,
           0,
           0,
           0,
           0,
           0,
           0,
           0,
           0,
           0,
           0,
           0,
           0,
           0,
           0,
           0,
           0,
           0,
           0,
           0,
           0,
           0,
           0,
           0,
           0,
           0,
           0,
           0,
           0,
           0,
           0,
           0,
           0,
           0,
           0,
           0,
           0,
           0,
           0,
           0,
           0,
           0,
           0,
           0,
           0,
           1,
           1,
           1,
           1,
           1,
           1,
           1,
           1,
           1,
           1,
           1,
           1,
           1,
           1,
           1,
           1,
           1,
           1,
           1,
           1,
           1,
           1,
           1,
           1,
           1,
           1,
           1,
           1,
           1,
           1,
           1,
           1,
           1,
           1,
           1,
           1,
           1,
           1,
           1,
           1,
           1,
           1,
           1,
           1,
           1,
           1,
           1,
           1,
           1,
           1,
           1,
           1,
           1,
           1,
           1,
           1,
           1,
           1,
           1,
           1,
           1,
           1,
           1,
           1,
           1,
           1,
           1,
           1,
           2,
           2,
           2,
           2,
           2,
           2,
           2,
           2,
           2,
           2,
           2,
           2,
           2,
           2,
           2,
           2,
           2,
           3,
           3,
           3,
           3,
           3,
           3,
           3,
           3,
           3,
           3,
           3,
           3,
           3,
           3,
           3,
           3,
           3,
           3,
           3,
           3,
           3,
           3,
           3,
           3,
           3,
           3,
           3,
           3,
           3,
           3,
           3,
           3,
           3,
           3,
           3,
           3,
           3,
           3,
           3,
           3,
           3,
           3,
           3,
           3,
           3,
           3,
           3,
           3,
           3,
           3,
           3,
           3,
           3,
           3,
           3,
           3,
           3,
           3,
           3,
           3,
           3,
           3,
           3,
           3,
           3,
           3,
           3,
           3,
           3,
           3,
           3,
           3,
           3,
           3,
           3,
           3,
           3,
           3,
           3,
           3,
           3,
           3,
           3,
           3,
           3,
           3,
           3,
           3,
           3,
           3,
           3,
           3,
           3,
           3,
           3,
           3,
           3,
           3,
           3,
           3,
           3,
           3,
           3,
           3,
           3,
           3,
           3,
           3,
           3,
           3,
           3,
           3,
           3,
           3,
           3,
           3,
           3,
           3,
           3,
           3,
           3,
           3,
           3,
           3,
           3,
           3,
           3,
           3,
           3,
           3,
           3,
           3,
           3,
           3,
           3,
           3,
           3,
           3,
           3,
           3,
           3,
           3,
           3,
           3,
           3,
           3,
           3,
           3,
           3,
           3,
           3,
           3,
           3,
           3,
           3,
           3,
           3,
           3,
           3,
           3,
           3,
           3,
           3,
           3,
           3,
           3,
           3,
           3,
           4,
           4,
           4,
           4,
           4,
           4,
           4,
           4,
           4,
           4,
           4,
           4,
           4,
           4,
           4,
           4,
           4,
           4,
           4,
           4,
           4
          ],
          "target": [
           5,
           5,
           5,
           5,
           5,
           5,
           5,
           5,
           5,
           5,
           5,
           5,
           5,
           5,
           5,
           5,
           5,
           6,
           6,
           6,
           6,
           6,
           6,
           6,
           6,
           6,
           6,
           6,
           6,
           6,
           6,
           6,
           6,
           6,
           7,
           7,
           7,
           7,
           7,
           7,
           7,
           7,
           7,
           7,
           7,
           7,
           7,
           7,
           7,
           7,
           7,
           8,
           8,
           8,
           8,
           8,
           8,
           8,
           8,
           8,
           8,
           8,
           8,
           8,
           8,
           8,
           8,
           8,
           5,
           5,
           5,
           5,
           5,
           5,
           5,
           5,
           5,
           5,
           5,
           5,
           5,
           5,
           5,
           5,
           5,
           6,
           6,
           6,
           6,
           6,
           6,
           6,
           6,
           6,
           6,
           6,
           6,
           6,
           6,
           6,
           6,
           6,
           7,
           7,
           7,
           7,
           7,
           7,
           7,
           7,
           7,
           7,
           7,
           7,
           7,
           7,
           7,
           7,
           7,
           8,
           8,
           8,
           8,
           8,
           8,
           8,
           8,
           8,
           8,
           8,
           8,
           8,
           8,
           8,
           8,
           8,
           9,
           9,
           9,
           9,
           9,
           9,
           9,
           9,
           9,
           9,
           9,
           9,
           9,
           9,
           9,
           9,
           9,
           10,
           10,
           10,
           10,
           10,
           10,
           10,
           10,
           10,
           10,
           10,
           10,
           10,
           10,
           10,
           10,
           10,
           11,
           11,
           11,
           11,
           11,
           11,
           11,
           11,
           11,
           11,
           11,
           11,
           11,
           11,
           11,
           11,
           11,
           12,
           12,
           12,
           12,
           12,
           12,
           12,
           12,
           12,
           12,
           12,
           12,
           12,
           12,
           12,
           12,
           12,
           13,
           13,
           13,
           13,
           13,
           13,
           13,
           13,
           13,
           13,
           13,
           13,
           13,
           13,
           13,
           13,
           13,
           14,
           14,
           14,
           14,
           14,
           14,
           14,
           14,
           14,
           14,
           14,
           14,
           14,
           14,
           14,
           15,
           15,
           15,
           15,
           15,
           15,
           15,
           15,
           15,
           15,
           15,
           15,
           15,
           15,
           15,
           15,
           15,
           16,
           16,
           16,
           16,
           16,
           16,
           16,
           16,
           16,
           16,
           16,
           16,
           16,
           16,
           16,
           16,
           16,
           17,
           17,
           17,
           17,
           17,
           17,
           17,
           17,
           17,
           17,
           17,
           17,
           17,
           17,
           17,
           17,
           17,
           18,
           18,
           18,
           18,
           18,
           18,
           18,
           18,
           18,
           18,
           18,
           18,
           18,
           18,
           18,
           18,
           18,
           19,
           19,
           19,
           19,
           19,
           19,
           19,
           19,
           19,
           19,
           19,
           19,
           19,
           19,
           19,
           19,
           19,
           20,
           20,
           20,
           20,
           20,
           20,
           20,
           20,
           20,
           20,
           20,
           20,
           20,
           20,
           20,
           20,
           20,
           21,
           21,
           21,
           21
          ],
          "value": [
           2513636,
           2193105,
           2506091,
           2458906,
           2236563,
           2261843,
           2118624,
           1883819,
           1885570,
           1905547,
           1988389,
           1790583,
           1738300,
           1630233,
           1590867,
           1444151,
           1505784,
           417865,
           292509,
           288561,
           208381,
           266718,
           452417,
           296312,
           192173,
           201216,
           226317,
           231517,
           138273,
           156654,
           161163,
           162570,
           115795,
           192508,
           1082796,
           1068737,
           1124786,
           1183985,
           1109123,
           1118167,
           1150003,
           1053562,
           1185444,
           1252271,
           1349883,
           1240286,
           1239513,
           1331914,
           1321707,
           961128,
           741906,
           304006,
           219342,
           198224,
           184180,
           154148,
           132181,
           162114,
           134436,
           176616,
           193990,
           101790,
           127661,
           76242,
           108113,
           112976,
           107280,
           108165,
           545778,
           460610,
           517384,
           506594,
           464085,
           497202,
           468863,
           430057,
           441537,
           434517,
           450710,
           414815,
           393769,
           405040,
           372140,
           403381,
           408567,
           401887,
           408776,
           372078,
           382537,
           386535,
           369463,
           279116,
           244802,
           249076,
           241487,
           256655,
           259974,
           204343,
           198128,
           168634,
           175604,
           170447,
           588322,
           527807,
           571849,
           573561,
           572857,
           556817,
           576908,
           504988,
           586381,
           620010,
           617809,
           533101,
           558681,
           625848,
           601626,
           533286,
           543081,
           37574,
           27110,
           24500,
           22764,
           21020,
           16337,
           22107,
           16616,
           11753,
           12909,
           6497,
           8149,
           4867,
           5083,
           5392,
           4988,
           5526,
           27289,
           27946,
           29069,
           30587,
           29054,
           29136,
           30565,
           27296,
           30653,
           31145,
           32714,
           30324,
           28883,
           30763,
           30217,
           23584,
           20123,
           13992,
           14437,
           14969,
           15052,
           14490,
           14370,
           14740,
           14945,
           15599,
           15201,
           13588,
           15747,
           14491,
           13854,
           11434,
           11434,
           5336,
           11494,
           11765,
           11926,
           11403,
           6893,
           1991,
           2998,
           3410,
           1607,
           1772,
           1799,
           1864,
           2076,
           2076,
           6128,
           6264,
           5655,
           11208,
           11471,
           11625,
           11143,
           12027,
           12556,
           11342,
           10054,
           12559,
           12668,
           13086,
           9669,
           14566,
           14566,
           13424,
           7870,
           6871,
           6972,
           7136,
           7233,
           6591,
           11269,
           6158,
           4196,
           6527,
           7795,
           7343,
           7755,
           6865,
           8736,
           8736,
           11356,
           5103,
           6547,
           15185,
           15185,
           15185,
           15185,
           12910,
           12131,
           13358,
           14232,
           14098,
           14098,
           16322,
           11621,
           7625,
           6763,
           6128,
           54781,
           52850,
           56153,
           56458,
           57695,
           59137,
           56801,
           55289,
           56921,
           58882,
           59779,
           53148,
           56338,
           57390,
           55320,
           55163,
           50105,
           71503,
           57175,
           67421,
           67423,
           62015,
           62054,
           58497,
           54730,
           55757,
           56429,
           56116,
           53090,
           49756,
           48140,
           45999,
           45504,
           42555,
           6984,
           7009,
           7106,
           7253,
           7105,
           7393,
           8135,
           8419,
           7269,
           7396,
           7688,
           8045,
           6812,
           7376,
           7643,
           6588,
           6431,
           18949,
           19615,
           19957,
           19752,
           19264,
           18626,
           18454,
           18926,
           19358,
           20832,
           20995,
           18640,
           17166,
           16343,
           16008,
           16394,
           16186,
           1702810,
           1704181,
           1746063,
           1674556,
           1637330,
           1644095,
           1641156,
           1593701,
           1648512,
           1605918,
           1689830,
           1670189,
           1616859,
           1679455,
           1677381,
           1352449,
           1588831,
           16821,
           16693,
           16894,
           17089,
           17384,
           17282,
           17414,
           17636,
           17887,
           17919,
           17923,
           17404,
           17363,
           17549,
           18321,
           18285,
           18897,
           698,
           699,
           733,
           735
          ]
         },
         "node": {
          "color": "green",
          "label": [
           "Commercial/Industrial/Large Residential",
           "Small Residential",
           "All Sectors",
           "Transportation",
           "Waste",
           "Electricity",
           "Fuel Oil",
           "Natural Gas",
           "Steam",
           "Fugitive gas",
           "BPS Buses",
           "Massport CNG",
           "Massport Diesel",
           "Massport Gasoline",
           "MBTA CNG",
           "MBTA Diesel",
           "MBTA Electricity",
           "MBTA Gasoline",
           "Other municipal fleets",
           "Vehicle Fuel",
           "Waste Water",
           "Compost"
          ],
          "line": {
           "color": "black",
           "width": 0.5
          },
          "pad": 15,
          "thickness": 20
         },
         "type": "sankey"
        }
       ],
       "layout": {
        "font": {
         "size": 10
        },
        "template": {
         "data": {
          "bar": [
           {
            "error_x": {
             "color": "#2a3f5f"
            },
            "error_y": {
             "color": "#2a3f5f"
            },
            "marker": {
             "line": {
              "color": "#E5ECF6",
              "width": 0.5
             },
             "pattern": {
              "fillmode": "overlay",
              "size": 10,
              "solidity": 0.2
             }
            },
            "type": "bar"
           }
          ],
          "barpolar": [
           {
            "marker": {
             "line": {
              "color": "#E5ECF6",
              "width": 0.5
             },
             "pattern": {
              "fillmode": "overlay",
              "size": 10,
              "solidity": 0.2
             }
            },
            "type": "barpolar"
           }
          ],
          "carpet": [
           {
            "aaxis": {
             "endlinecolor": "#2a3f5f",
             "gridcolor": "white",
             "linecolor": "white",
             "minorgridcolor": "white",
             "startlinecolor": "#2a3f5f"
            },
            "baxis": {
             "endlinecolor": "#2a3f5f",
             "gridcolor": "white",
             "linecolor": "white",
             "minorgridcolor": "white",
             "startlinecolor": "#2a3f5f"
            },
            "type": "carpet"
           }
          ],
          "choropleth": [
           {
            "colorbar": {
             "outlinewidth": 0,
             "ticks": ""
            },
            "type": "choropleth"
           }
          ],
          "contour": [
           {
            "colorbar": {
             "outlinewidth": 0,
             "ticks": ""
            },
            "colorscale": [
             [
              0,
              "#0d0887"
             ],
             [
              0.1111111111111111,
              "#46039f"
             ],
             [
              0.2222222222222222,
              "#7201a8"
             ],
             [
              0.3333333333333333,
              "#9c179e"
             ],
             [
              0.4444444444444444,
              "#bd3786"
             ],
             [
              0.5555555555555556,
              "#d8576b"
             ],
             [
              0.6666666666666666,
              "#ed7953"
             ],
             [
              0.7777777777777778,
              "#fb9f3a"
             ],
             [
              0.8888888888888888,
              "#fdca26"
             ],
             [
              1,
              "#f0f921"
             ]
            ],
            "type": "contour"
           }
          ],
          "contourcarpet": [
           {
            "colorbar": {
             "outlinewidth": 0,
             "ticks": ""
            },
            "type": "contourcarpet"
           }
          ],
          "heatmap": [
           {
            "colorbar": {
             "outlinewidth": 0,
             "ticks": ""
            },
            "colorscale": [
             [
              0,
              "#0d0887"
             ],
             [
              0.1111111111111111,
              "#46039f"
             ],
             [
              0.2222222222222222,
              "#7201a8"
             ],
             [
              0.3333333333333333,
              "#9c179e"
             ],
             [
              0.4444444444444444,
              "#bd3786"
             ],
             [
              0.5555555555555556,
              "#d8576b"
             ],
             [
              0.6666666666666666,
              "#ed7953"
             ],
             [
              0.7777777777777778,
              "#fb9f3a"
             ],
             [
              0.8888888888888888,
              "#fdca26"
             ],
             [
              1,
              "#f0f921"
             ]
            ],
            "type": "heatmap"
           }
          ],
          "heatmapgl": [
           {
            "colorbar": {
             "outlinewidth": 0,
             "ticks": ""
            },
            "colorscale": [
             [
              0,
              "#0d0887"
             ],
             [
              0.1111111111111111,
              "#46039f"
             ],
             [
              0.2222222222222222,
              "#7201a8"
             ],
             [
              0.3333333333333333,
              "#9c179e"
             ],
             [
              0.4444444444444444,
              "#bd3786"
             ],
             [
              0.5555555555555556,
              "#d8576b"
             ],
             [
              0.6666666666666666,
              "#ed7953"
             ],
             [
              0.7777777777777778,
              "#fb9f3a"
             ],
             [
              0.8888888888888888,
              "#fdca26"
             ],
             [
              1,
              "#f0f921"
             ]
            ],
            "type": "heatmapgl"
           }
          ],
          "histogram": [
           {
            "marker": {
             "pattern": {
              "fillmode": "overlay",
              "size": 10,
              "solidity": 0.2
             }
            },
            "type": "histogram"
           }
          ],
          "histogram2d": [
           {
            "colorbar": {
             "outlinewidth": 0,
             "ticks": ""
            },
            "colorscale": [
             [
              0,
              "#0d0887"
             ],
             [
              0.1111111111111111,
              "#46039f"
             ],
             [
              0.2222222222222222,
              "#7201a8"
             ],
             [
              0.3333333333333333,
              "#9c179e"
             ],
             [
              0.4444444444444444,
              "#bd3786"
             ],
             [
              0.5555555555555556,
              "#d8576b"
             ],
             [
              0.6666666666666666,
              "#ed7953"
             ],
             [
              0.7777777777777778,
              "#fb9f3a"
             ],
             [
              0.8888888888888888,
              "#fdca26"
             ],
             [
              1,
              "#f0f921"
             ]
            ],
            "type": "histogram2d"
           }
          ],
          "histogram2dcontour": [
           {
            "colorbar": {
             "outlinewidth": 0,
             "ticks": ""
            },
            "colorscale": [
             [
              0,
              "#0d0887"
             ],
             [
              0.1111111111111111,
              "#46039f"
             ],
             [
              0.2222222222222222,
              "#7201a8"
             ],
             [
              0.3333333333333333,
              "#9c179e"
             ],
             [
              0.4444444444444444,
              "#bd3786"
             ],
             [
              0.5555555555555556,
              "#d8576b"
             ],
             [
              0.6666666666666666,
              "#ed7953"
             ],
             [
              0.7777777777777778,
              "#fb9f3a"
             ],
             [
              0.8888888888888888,
              "#fdca26"
             ],
             [
              1,
              "#f0f921"
             ]
            ],
            "type": "histogram2dcontour"
           }
          ],
          "mesh3d": [
           {
            "colorbar": {
             "outlinewidth": 0,
             "ticks": ""
            },
            "type": "mesh3d"
           }
          ],
          "parcoords": [
           {
            "line": {
             "colorbar": {
              "outlinewidth": 0,
              "ticks": ""
             }
            },
            "type": "parcoords"
           }
          ],
          "pie": [
           {
            "automargin": true,
            "type": "pie"
           }
          ],
          "scatter": [
           {
            "fillpattern": {
             "fillmode": "overlay",
             "size": 10,
             "solidity": 0.2
            },
            "type": "scatter"
           }
          ],
          "scatter3d": [
           {
            "line": {
             "colorbar": {
              "outlinewidth": 0,
              "ticks": ""
             }
            },
            "marker": {
             "colorbar": {
              "outlinewidth": 0,
              "ticks": ""
             }
            },
            "type": "scatter3d"
           }
          ],
          "scattercarpet": [
           {
            "marker": {
             "colorbar": {
              "outlinewidth": 0,
              "ticks": ""
             }
            },
            "type": "scattercarpet"
           }
          ],
          "scattergeo": [
           {
            "marker": {
             "colorbar": {
              "outlinewidth": 0,
              "ticks": ""
             }
            },
            "type": "scattergeo"
           }
          ],
          "scattergl": [
           {
            "marker": {
             "colorbar": {
              "outlinewidth": 0,
              "ticks": ""
             }
            },
            "type": "scattergl"
           }
          ],
          "scattermapbox": [
           {
            "marker": {
             "colorbar": {
              "outlinewidth": 0,
              "ticks": ""
             }
            },
            "type": "scattermapbox"
           }
          ],
          "scatterpolar": [
           {
            "marker": {
             "colorbar": {
              "outlinewidth": 0,
              "ticks": ""
             }
            },
            "type": "scatterpolar"
           }
          ],
          "scatterpolargl": [
           {
            "marker": {
             "colorbar": {
              "outlinewidth": 0,
              "ticks": ""
             }
            },
            "type": "scatterpolargl"
           }
          ],
          "scatterternary": [
           {
            "marker": {
             "colorbar": {
              "outlinewidth": 0,
              "ticks": ""
             }
            },
            "type": "scatterternary"
           }
          ],
          "surface": [
           {
            "colorbar": {
             "outlinewidth": 0,
             "ticks": ""
            },
            "colorscale": [
             [
              0,
              "#0d0887"
             ],
             [
              0.1111111111111111,
              "#46039f"
             ],
             [
              0.2222222222222222,
              "#7201a8"
             ],
             [
              0.3333333333333333,
              "#9c179e"
             ],
             [
              0.4444444444444444,
              "#bd3786"
             ],
             [
              0.5555555555555556,
              "#d8576b"
             ],
             [
              0.6666666666666666,
              "#ed7953"
             ],
             [
              0.7777777777777778,
              "#fb9f3a"
             ],
             [
              0.8888888888888888,
              "#fdca26"
             ],
             [
              1,
              "#f0f921"
             ]
            ],
            "type": "surface"
           }
          ],
          "table": [
           {
            "cells": {
             "fill": {
              "color": "#EBF0F8"
             },
             "line": {
              "color": "white"
             }
            },
            "header": {
             "fill": {
              "color": "#C8D4E3"
             },
             "line": {
              "color": "white"
             }
            },
            "type": "table"
           }
          ]
         },
         "layout": {
          "annotationdefaults": {
           "arrowcolor": "#2a3f5f",
           "arrowhead": 0,
           "arrowwidth": 1
          },
          "autotypenumbers": "strict",
          "coloraxis": {
           "colorbar": {
            "outlinewidth": 0,
            "ticks": ""
           }
          },
          "colorscale": {
           "diverging": [
            [
             0,
             "#8e0152"
            ],
            [
             0.1,
             "#c51b7d"
            ],
            [
             0.2,
             "#de77ae"
            ],
            [
             0.3,
             "#f1b6da"
            ],
            [
             0.4,
             "#fde0ef"
            ],
            [
             0.5,
             "#f7f7f7"
            ],
            [
             0.6,
             "#e6f5d0"
            ],
            [
             0.7,
             "#b8e186"
            ],
            [
             0.8,
             "#7fbc41"
            ],
            [
             0.9,
             "#4d9221"
            ],
            [
             1,
             "#276419"
            ]
           ],
           "sequential": [
            [
             0,
             "#0d0887"
            ],
            [
             0.1111111111111111,
             "#46039f"
            ],
            [
             0.2222222222222222,
             "#7201a8"
            ],
            [
             0.3333333333333333,
             "#9c179e"
            ],
            [
             0.4444444444444444,
             "#bd3786"
            ],
            [
             0.5555555555555556,
             "#d8576b"
            ],
            [
             0.6666666666666666,
             "#ed7953"
            ],
            [
             0.7777777777777778,
             "#fb9f3a"
            ],
            [
             0.8888888888888888,
             "#fdca26"
            ],
            [
             1,
             "#f0f921"
            ]
           ],
           "sequentialminus": [
            [
             0,
             "#0d0887"
            ],
            [
             0.1111111111111111,
             "#46039f"
            ],
            [
             0.2222222222222222,
             "#7201a8"
            ],
            [
             0.3333333333333333,
             "#9c179e"
            ],
            [
             0.4444444444444444,
             "#bd3786"
            ],
            [
             0.5555555555555556,
             "#d8576b"
            ],
            [
             0.6666666666666666,
             "#ed7953"
            ],
            [
             0.7777777777777778,
             "#fb9f3a"
            ],
            [
             0.8888888888888888,
             "#fdca26"
            ],
            [
             1,
             "#f0f921"
            ]
           ]
          },
          "colorway": [
           "#636efa",
           "#EF553B",
           "#00cc96",
           "#ab63fa",
           "#FFA15A",
           "#19d3f3",
           "#FF6692",
           "#B6E880",
           "#FF97FF",
           "#FECB52"
          ],
          "font": {
           "color": "#2a3f5f"
          },
          "geo": {
           "bgcolor": "white",
           "lakecolor": "white",
           "landcolor": "#E5ECF6",
           "showlakes": true,
           "showland": true,
           "subunitcolor": "white"
          },
          "hoverlabel": {
           "align": "left"
          },
          "hovermode": "closest",
          "mapbox": {
           "style": "light"
          },
          "paper_bgcolor": "white",
          "plot_bgcolor": "#E5ECF6",
          "polar": {
           "angularaxis": {
            "gridcolor": "white",
            "linecolor": "white",
            "ticks": ""
           },
           "bgcolor": "#E5ECF6",
           "radialaxis": {
            "gridcolor": "white",
            "linecolor": "white",
            "ticks": ""
           }
          },
          "scene": {
           "xaxis": {
            "backgroundcolor": "#E5ECF6",
            "gridcolor": "white",
            "gridwidth": 2,
            "linecolor": "white",
            "showbackground": true,
            "ticks": "",
            "zerolinecolor": "white"
           },
           "yaxis": {
            "backgroundcolor": "#E5ECF6",
            "gridcolor": "white",
            "gridwidth": 2,
            "linecolor": "white",
            "showbackground": true,
            "ticks": "",
            "zerolinecolor": "white"
           },
           "zaxis": {
            "backgroundcolor": "#E5ECF6",
            "gridcolor": "white",
            "gridwidth": 2,
            "linecolor": "white",
            "showbackground": true,
            "ticks": "",
            "zerolinecolor": "white"
           }
          },
          "shapedefaults": {
           "line": {
            "color": "#2a3f5f"
           }
          },
          "ternary": {
           "aaxis": {
            "gridcolor": "white",
            "linecolor": "white",
            "ticks": ""
           },
           "baxis": {
            "gridcolor": "white",
            "linecolor": "white",
            "ticks": ""
           },
           "bgcolor": "#E5ECF6",
           "caxis": {
            "gridcolor": "white",
            "linecolor": "white",
            "ticks": ""
           }
          },
          "title": {
           "x": 0.05
          },
          "xaxis": {
           "automargin": true,
           "gridcolor": "white",
           "linecolor": "white",
           "ticks": "",
           "title": {
            "standoff": 15
           },
           "zerolinecolor": "white",
           "zerolinewidth": 2
          },
          "yaxis": {
           "automargin": true,
           "gridcolor": "white",
           "linecolor": "white",
           "ticks": "",
           "title": {
            "standoff": 15
           },
           "zerolinecolor": "white",
           "zerolinewidth": 2
          }
         }
        },
        "title": {
         "text": "Sankey Diagram of GHG Emissions by Sector and Source"
        }
       }
      },
      "text/html": [
       "<div>                            <div id=\"64984ee4-9ebd-4079-a4ef-b842d5052da8\" class=\"plotly-graph-div\" style=\"height:525px; width:100%;\"></div>            <script type=\"text/javascript\">                require([\"plotly\"], function(Plotly) {                    window.PLOTLYENV=window.PLOTLYENV || {};                                    if (document.getElementById(\"64984ee4-9ebd-4079-a4ef-b842d5052da8\")) {                    Plotly.newPlot(                        \"64984ee4-9ebd-4079-a4ef-b842d5052da8\",                        [{\"link\":{\"color\":[\"rgba(0, 0, 0, 0.6)\",\"rgba(1, 10, 20, 0.6)\",\"rgba(2, 20, 40, 0.6)\",\"rgba(3, 30, 60, 0.6)\",\"rgba(4, 40, 80, 0.6)\",\"rgba(5, 50, 100, 0.6)\",\"rgba(6, 60, 120, 0.6)\",\"rgba(7, 70, 140, 0.6)\",\"rgba(8, 80, 160, 0.6)\",\"rgba(9, 90, 180, 0.6)\",\"rgba(10, 100, 200, 0.6)\",\"rgba(11, 110, 220, 0.6)\",\"rgba(12, 120, 240, 0.6)\",\"rgba(13, 130, 260, 0.6)\",\"rgba(14, 140, 280, 0.6)\",\"rgba(15, 150, 300, 0.6)\",\"rgba(16, 160, 320, 0.6)\",\"rgba(17, 170, 340, 0.6)\",\"rgba(18, 180, 360, 0.6)\",\"rgba(19, 190, 380, 0.6)\",\"rgba(20, 200, 400, 0.6)\",\"rgba(21, 210, 420, 0.6)\",\"rgba(22, 220, 440, 0.6)\",\"rgba(23, 230, 460, 0.6)\",\"rgba(24, 240, 480, 0.6)\",\"rgba(25, 250, 500, 0.6)\",\"rgba(26, 260, 520, 0.6)\",\"rgba(27, 270, 540, 0.6)\",\"rgba(28, 280, 560, 0.6)\",\"rgba(29, 290, 580, 0.6)\",\"rgba(30, 300, 600, 0.6)\",\"rgba(31, 310, 620, 0.6)\",\"rgba(32, 320, 640, 0.6)\",\"rgba(33, 330, 660, 0.6)\",\"rgba(34, 340, 680, 0.6)\",\"rgba(35, 350, 700, 0.6)\",\"rgba(36, 360, 720, 0.6)\",\"rgba(37, 370, 740, 0.6)\",\"rgba(38, 380, 760, 0.6)\",\"rgba(39, 390, 780, 0.6)\",\"rgba(40, 400, 800, 0.6)\",\"rgba(41, 410, 820, 0.6)\",\"rgba(42, 420, 840, 0.6)\",\"rgba(43, 430, 860, 0.6)\",\"rgba(44, 440, 880, 0.6)\",\"rgba(45, 450, 900, 0.6)\",\"rgba(46, 460, 920, 0.6)\",\"rgba(47, 470, 940, 0.6)\",\"rgba(48, 480, 960, 0.6)\",\"rgba(49, 490, 980, 0.6)\",\"rgba(50, 500, 1000, 0.6)\",\"rgba(51, 510, 1020, 0.6)\",\"rgba(52, 520, 1040, 0.6)\",\"rgba(53, 530, 1060, 0.6)\",\"rgba(54, 540, 1080, 0.6)\",\"rgba(55, 550, 1100, 0.6)\",\"rgba(56, 560, 1120, 0.6)\",\"rgba(57, 570, 1140, 0.6)\",\"rgba(58, 580, 1160, 0.6)\",\"rgba(59, 590, 1180, 0.6)\",\"rgba(60, 600, 1200, 0.6)\",\"rgba(61, 610, 1220, 0.6)\",\"rgba(62, 620, 1240, 0.6)\",\"rgba(63, 630, 1260, 0.6)\",\"rgba(64, 640, 1280, 0.6)\",\"rgba(65, 650, 1300, 0.6)\",\"rgba(66, 660, 1320, 0.6)\",\"rgba(67, 670, 1340, 0.6)\",\"rgba(68, 680, 1360, 0.6)\",\"rgba(69, 690, 1380, 0.6)\",\"rgba(70, 700, 1400, 0.6)\",\"rgba(71, 710, 1420, 0.6)\",\"rgba(72, 720, 1440, 0.6)\",\"rgba(73, 730, 1460, 0.6)\",\"rgba(74, 740, 1480, 0.6)\",\"rgba(75, 750, 1500, 0.6)\",\"rgba(76, 760, 1520, 0.6)\",\"rgba(77, 770, 1540, 0.6)\",\"rgba(78, 780, 1560, 0.6)\",\"rgba(79, 790, 1580, 0.6)\",\"rgba(80, 800, 1600, 0.6)\",\"rgba(81, 810, 1620, 0.6)\",\"rgba(82, 820, 1640, 0.6)\",\"rgba(83, 830, 1660, 0.6)\",\"rgba(84, 840, 1680, 0.6)\",\"rgba(85, 850, 1700, 0.6)\",\"rgba(86, 860, 1720, 0.6)\",\"rgba(87, 870, 1740, 0.6)\",\"rgba(88, 880, 1760, 0.6)\",\"rgba(89, 890, 1780, 0.6)\",\"rgba(90, 900, 1800, 0.6)\",\"rgba(91, 910, 1820, 0.6)\",\"rgba(92, 920, 1840, 0.6)\",\"rgba(93, 930, 1860, 0.6)\",\"rgba(94, 940, 1880, 0.6)\",\"rgba(95, 950, 1900, 0.6)\",\"rgba(96, 960, 1920, 0.6)\",\"rgba(97, 970, 1940, 0.6)\",\"rgba(98, 980, 1960, 0.6)\",\"rgba(99, 990, 1980, 0.6)\",\"rgba(100, 1000, 2000, 0.6)\",\"rgba(101, 1010, 2020, 0.6)\",\"rgba(102, 1020, 2040, 0.6)\",\"rgba(103, 1030, 2060, 0.6)\",\"rgba(104, 1040, 2080, 0.6)\",\"rgba(105, 1050, 2100, 0.6)\",\"rgba(106, 1060, 2120, 0.6)\",\"rgba(107, 1070, 2140, 0.6)\",\"rgba(108, 1080, 2160, 0.6)\",\"rgba(109, 1090, 2180, 0.6)\",\"rgba(110, 1100, 2200, 0.6)\",\"rgba(111, 1110, 2220, 0.6)\",\"rgba(112, 1120, 2240, 0.6)\",\"rgba(113, 1130, 2260, 0.6)\",\"rgba(114, 1140, 2280, 0.6)\",\"rgba(115, 1150, 2300, 0.6)\",\"rgba(116, 1160, 2320, 0.6)\",\"rgba(117, 1170, 2340, 0.6)\",\"rgba(118, 1180, 2360, 0.6)\",\"rgba(119, 1190, 2380, 0.6)\",\"rgba(120, 1200, 2400, 0.6)\",\"rgba(121, 1210, 2420, 0.6)\",\"rgba(122, 1220, 2440, 0.6)\",\"rgba(123, 1230, 2460, 0.6)\",\"rgba(124, 1240, 2480, 0.6)\",\"rgba(125, 1250, 2500, 0.6)\",\"rgba(126, 1260, 2520, 0.6)\",\"rgba(127, 1270, 2540, 0.6)\",\"rgba(128, 1280, 2560, 0.6)\",\"rgba(129, 1290, 2580, 0.6)\",\"rgba(130, 1300, 2600, 0.6)\",\"rgba(131, 1310, 2620, 0.6)\",\"rgba(132, 1320, 2640, 0.6)\",\"rgba(133, 1330, 2660, 0.6)\",\"rgba(134, 1340, 2680, 0.6)\",\"rgba(135, 1350, 2700, 0.6)\",\"rgba(136, 1360, 2720, 0.6)\",\"rgba(137, 1370, 2740, 0.6)\",\"rgba(138, 1380, 2760, 0.6)\",\"rgba(139, 1390, 2780, 0.6)\",\"rgba(140, 1400, 2800, 0.6)\",\"rgba(141, 1410, 2820, 0.6)\",\"rgba(142, 1420, 2840, 0.6)\",\"rgba(143, 1430, 2860, 0.6)\",\"rgba(144, 1440, 2880, 0.6)\",\"rgba(145, 1450, 2900, 0.6)\",\"rgba(146, 1460, 2920, 0.6)\",\"rgba(147, 1470, 2940, 0.6)\",\"rgba(148, 1480, 2960, 0.6)\",\"rgba(149, 1490, 2980, 0.6)\",\"rgba(150, 1500, 3000, 0.6)\",\"rgba(151, 1510, 3020, 0.6)\",\"rgba(152, 1520, 3040, 0.6)\",\"rgba(153, 1530, 3060, 0.6)\",\"rgba(154, 1540, 3080, 0.6)\",\"rgba(155, 1550, 3100, 0.6)\",\"rgba(156, 1560, 3120, 0.6)\",\"rgba(157, 1570, 3140, 0.6)\",\"rgba(158, 1580, 3160, 0.6)\",\"rgba(159, 1590, 3180, 0.6)\",\"rgba(160, 1600, 3200, 0.6)\",\"rgba(161, 1610, 3220, 0.6)\",\"rgba(162, 1620, 3240, 0.6)\",\"rgba(163, 1630, 3260, 0.6)\",\"rgba(164, 1640, 3280, 0.6)\",\"rgba(165, 1650, 3300, 0.6)\",\"rgba(166, 1660, 3320, 0.6)\",\"rgba(167, 1670, 3340, 0.6)\",\"rgba(168, 1680, 3360, 0.6)\",\"rgba(169, 1690, 3380, 0.6)\",\"rgba(170, 1700, 3400, 0.6)\",\"rgba(171, 1710, 3420, 0.6)\",\"rgba(172, 1720, 3440, 0.6)\",\"rgba(173, 1730, 3460, 0.6)\",\"rgba(174, 1740, 3480, 0.6)\",\"rgba(175, 1750, 3500, 0.6)\",\"rgba(176, 1760, 3520, 0.6)\",\"rgba(177, 1770, 3540, 0.6)\",\"rgba(178, 1780, 3560, 0.6)\",\"rgba(179, 1790, 3580, 0.6)\",\"rgba(180, 1800, 3600, 0.6)\",\"rgba(181, 1810, 3620, 0.6)\",\"rgba(182, 1820, 3640, 0.6)\",\"rgba(183, 1830, 3660, 0.6)\",\"rgba(184, 1840, 3680, 0.6)\",\"rgba(185, 1850, 3700, 0.6)\",\"rgba(186, 1860, 3720, 0.6)\",\"rgba(187, 1870, 3740, 0.6)\",\"rgba(188, 1880, 3760, 0.6)\",\"rgba(189, 1890, 3780, 0.6)\",\"rgba(190, 1900, 3800, 0.6)\",\"rgba(191, 1910, 3820, 0.6)\",\"rgba(192, 1920, 3840, 0.6)\",\"rgba(193, 1930, 3860, 0.6)\",\"rgba(194, 1940, 3880, 0.6)\",\"rgba(195, 1950, 3900, 0.6)\",\"rgba(196, 1960, 3920, 0.6)\",\"rgba(197, 1970, 3940, 0.6)\",\"rgba(198, 1980, 3960, 0.6)\",\"rgba(199, 1990, 3980, 0.6)\",\"rgba(200, 2000, 4000, 0.6)\",\"rgba(201, 2010, 4020, 0.6)\",\"rgba(202, 2020, 4040, 0.6)\",\"rgba(203, 2030, 4060, 0.6)\",\"rgba(204, 2040, 4080, 0.6)\",\"rgba(205, 2050, 4100, 0.6)\",\"rgba(206, 2060, 4120, 0.6)\",\"rgba(207, 2070, 4140, 0.6)\",\"rgba(208, 2080, 4160, 0.6)\",\"rgba(209, 2090, 4180, 0.6)\",\"rgba(210, 2100, 4200, 0.6)\",\"rgba(211, 2110, 4220, 0.6)\",\"rgba(212, 2120, 4240, 0.6)\",\"rgba(213, 2130, 4260, 0.6)\",\"rgba(214, 2140, 4280, 0.6)\",\"rgba(215, 2150, 4300, 0.6)\",\"rgba(216, 2160, 4320, 0.6)\",\"rgba(217, 2170, 4340, 0.6)\",\"rgba(218, 2180, 4360, 0.6)\",\"rgba(219, 2190, 4380, 0.6)\",\"rgba(220, 2200, 4400, 0.6)\",\"rgba(221, 2210, 4420, 0.6)\",\"rgba(222, 2220, 4440, 0.6)\",\"rgba(223, 2230, 4460, 0.6)\",\"rgba(224, 2240, 4480, 0.6)\",\"rgba(225, 2250, 4500, 0.6)\",\"rgba(226, 2260, 4520, 0.6)\",\"rgba(227, 2270, 4540, 0.6)\",\"rgba(228, 2280, 4560, 0.6)\",\"rgba(229, 2290, 4580, 0.6)\",\"rgba(230, 2300, 4600, 0.6)\",\"rgba(231, 2310, 4620, 0.6)\",\"rgba(232, 2320, 4640, 0.6)\",\"rgba(233, 2330, 4660, 0.6)\",\"rgba(234, 2340, 4680, 0.6)\",\"rgba(235, 2350, 4700, 0.6)\",\"rgba(236, 2360, 4720, 0.6)\",\"rgba(237, 2370, 4740, 0.6)\",\"rgba(238, 2380, 4760, 0.6)\",\"rgba(239, 2390, 4780, 0.6)\",\"rgba(240, 2400, 4800, 0.6)\",\"rgba(241, 2410, 4820, 0.6)\",\"rgba(242, 2420, 4840, 0.6)\",\"rgba(243, 2430, 4860, 0.6)\",\"rgba(244, 2440, 4880, 0.6)\",\"rgba(245, 2450, 4900, 0.6)\",\"rgba(246, 2460, 4920, 0.6)\",\"rgba(247, 2470, 4940, 0.6)\",\"rgba(248, 2480, 4960, 0.6)\",\"rgba(249, 2490, 4980, 0.6)\",\"rgba(250, 2500, 5000, 0.6)\",\"rgba(251, 2510, 5020, 0.6)\",\"rgba(252, 2520, 5040, 0.6)\",\"rgba(253, 2530, 5060, 0.6)\",\"rgba(254, 2540, 5080, 0.6)\",\"rgba(255, 2550, 5100, 0.6)\",\"rgba(256, 2560, 5120, 0.6)\",\"rgba(257, 2570, 5140, 0.6)\",\"rgba(258, 2580, 5160, 0.6)\",\"rgba(259, 2590, 5180, 0.6)\",\"rgba(260, 2600, 5200, 0.6)\",\"rgba(261, 2610, 5220, 0.6)\",\"rgba(262, 2620, 5240, 0.6)\",\"rgba(263, 2630, 5260, 0.6)\",\"rgba(264, 2640, 5280, 0.6)\",\"rgba(265, 2650, 5300, 0.6)\",\"rgba(266, 2660, 5320, 0.6)\",\"rgba(267, 2670, 5340, 0.6)\",\"rgba(268, 2680, 5360, 0.6)\",\"rgba(269, 2690, 5380, 0.6)\",\"rgba(270, 2700, 5400, 0.6)\",\"rgba(271, 2710, 5420, 0.6)\",\"rgba(272, 2720, 5440, 0.6)\",\"rgba(273, 2730, 5460, 0.6)\",\"rgba(274, 2740, 5480, 0.6)\",\"rgba(275, 2750, 5500, 0.6)\",\"rgba(276, 2760, 5520, 0.6)\",\"rgba(277, 2770, 5540, 0.6)\",\"rgba(278, 2780, 5560, 0.6)\",\"rgba(279, 2790, 5580, 0.6)\",\"rgba(280, 2800, 5600, 0.6)\",\"rgba(281, 2810, 5620, 0.6)\",\"rgba(282, 2820, 5640, 0.6)\",\"rgba(283, 2830, 5660, 0.6)\",\"rgba(284, 2840, 5680, 0.6)\",\"rgba(285, 2850, 5700, 0.6)\",\"rgba(286, 2860, 5720, 0.6)\",\"rgba(287, 2870, 5740, 0.6)\",\"rgba(288, 2880, 5760, 0.6)\",\"rgba(289, 2890, 5780, 0.6)\",\"rgba(290, 2900, 5800, 0.6)\",\"rgba(291, 2910, 5820, 0.6)\",\"rgba(292, 2920, 5840, 0.6)\",\"rgba(293, 2930, 5860, 0.6)\",\"rgba(294, 2940, 5880, 0.6)\",\"rgba(295, 2950, 5900, 0.6)\",\"rgba(296, 2960, 5920, 0.6)\",\"rgba(297, 2970, 5940, 0.6)\",\"rgba(298, 2980, 5960, 0.6)\",\"rgba(299, 2990, 5980, 0.6)\",\"rgba(300, 3000, 6000, 0.6)\",\"rgba(301, 3010, 6020, 0.6)\",\"rgba(302, 3020, 6040, 0.6)\",\"rgba(303, 3030, 6060, 0.6)\",\"rgba(304, 3040, 6080, 0.6)\",\"rgba(305, 3050, 6100, 0.6)\",\"rgba(306, 3060, 6120, 0.6)\",\"rgba(307, 3070, 6140, 0.6)\",\"rgba(308, 3080, 6160, 0.6)\",\"rgba(309, 3090, 6180, 0.6)\",\"rgba(310, 3100, 6200, 0.6)\",\"rgba(311, 3110, 6220, 0.6)\",\"rgba(312, 3120, 6240, 0.6)\",\"rgba(313, 3130, 6260, 0.6)\",\"rgba(314, 3140, 6280, 0.6)\",\"rgba(315, 3150, 6300, 0.6)\",\"rgba(316, 3160, 6320, 0.6)\",\"rgba(317, 3170, 6340, 0.6)\",\"rgba(318, 3180, 6360, 0.6)\",\"rgba(319, 3190, 6380, 0.6)\",\"rgba(320, 3200, 6400, 0.6)\",\"rgba(321, 3210, 6420, 0.6)\",\"rgba(322, 3220, 6440, 0.6)\",\"rgba(323, 3230, 6460, 0.6)\",\"rgba(324, 3240, 6480, 0.6)\",\"rgba(325, 3250, 6500, 0.6)\",\"rgba(326, 3260, 6520, 0.6)\",\"rgba(327, 3270, 6540, 0.6)\",\"rgba(328, 3280, 6560, 0.6)\",\"rgba(329, 3290, 6580, 0.6)\",\"rgba(330, 3300, 6600, 0.6)\",\"rgba(331, 3310, 6620, 0.6)\",\"rgba(332, 3320, 6640, 0.6)\",\"rgba(333, 3330, 6660, 0.6)\",\"rgba(334, 3340, 6680, 0.6)\",\"rgba(335, 3350, 6700, 0.6)\",\"rgba(336, 3360, 6720, 0.6)\",\"rgba(337, 3370, 6740, 0.6)\",\"rgba(338, 3380, 6760, 0.6)\",\"rgba(339, 3390, 6780, 0.6)\",\"rgba(340, 3400, 6800, 0.6)\",\"rgba(341, 3410, 6820, 0.6)\"],\"source\":[0,0,0,0,0,0,0,0,0,0,0,0,0,0,0,0,0,0,0,0,0,0,0,0,0,0,0,0,0,0,0,0,0,0,0,0,0,0,0,0,0,0,0,0,0,0,0,0,0,0,0,0,0,0,0,0,0,0,0,0,0,0,0,0,0,0,0,0,1,1,1,1,1,1,1,1,1,1,1,1,1,1,1,1,1,1,1,1,1,1,1,1,1,1,1,1,1,1,1,1,1,1,1,1,1,1,1,1,1,1,1,1,1,1,1,1,1,1,1,1,1,1,1,1,1,1,1,1,1,1,1,1,1,1,1,1,2,2,2,2,2,2,2,2,2,2,2,2,2,2,2,2,2,3,3,3,3,3,3,3,3,3,3,3,3,3,3,3,3,3,3,3,3,3,3,3,3,3,3,3,3,3,3,3,3,3,3,3,3,3,3,3,3,3,3,3,3,3,3,3,3,3,3,3,3,3,3,3,3,3,3,3,3,3,3,3,3,3,3,3,3,3,3,3,3,3,3,3,3,3,3,3,3,3,3,3,3,3,3,3,3,3,3,3,3,3,3,3,3,3,3,3,3,3,3,3,3,3,3,3,3,3,3,3,3,3,3,3,3,3,3,3,3,3,3,3,3,3,3,3,3,3,3,3,3,3,3,3,3,3,3,3,3,3,3,3,3,3,3,3,3,3,3,3,3,3,3,3,3,3,3,3,3,3,3,3,3,3,3,3,3,4,4,4,4,4,4,4,4,4,4,4,4,4,4,4,4,4,4,4,4,4],\"target\":[5,5,5,5,5,5,5,5,5,5,5,5,5,5,5,5,5,6,6,6,6,6,6,6,6,6,6,6,6,6,6,6,6,6,7,7,7,7,7,7,7,7,7,7,7,7,7,7,7,7,7,8,8,8,8,8,8,8,8,8,8,8,8,8,8,8,8,8,5,5,5,5,5,5,5,5,5,5,5,5,5,5,5,5,5,6,6,6,6,6,6,6,6,6,6,6,6,6,6,6,6,6,7,7,7,7,7,7,7,7,7,7,7,7,7,7,7,7,7,8,8,8,8,8,8,8,8,8,8,8,8,8,8,8,8,8,9,9,9,9,9,9,9,9,9,9,9,9,9,9,9,9,9,10,10,10,10,10,10,10,10,10,10,10,10,10,10,10,10,10,11,11,11,11,11,11,11,11,11,11,11,11,11,11,11,11,11,12,12,12,12,12,12,12,12,12,12,12,12,12,12,12,12,12,13,13,13,13,13,13,13,13,13,13,13,13,13,13,13,13,13,14,14,14,14,14,14,14,14,14,14,14,14,14,14,14,15,15,15,15,15,15,15,15,15,15,15,15,15,15,15,15,15,16,16,16,16,16,16,16,16,16,16,16,16,16,16,16,16,16,17,17,17,17,17,17,17,17,17,17,17,17,17,17,17,17,17,18,18,18,18,18,18,18,18,18,18,18,18,18,18,18,18,18,19,19,19,19,19,19,19,19,19,19,19,19,19,19,19,19,19,20,20,20,20,20,20,20,20,20,20,20,20,20,20,20,20,20,21,21,21,21],\"value\":[2513636.0,2193105.0,2506091.0,2458906.0,2236563.0,2261843.0,2118624.0,1883819.0,1885570.0,1905547.0,1988389.0,1790583.0,1738300.0,1630233.0,1590867.0,1444151.0,1505784.0,417865.0,292509.0,288561.0,208381.0,266718.0,452417.0,296312.0,192173.0,201216.0,226317.0,231517.0,138273.0,156654.0,161163.0,162570.0,115795.0,192508.0,1082796.0,1068737.0,1124786.0,1183985.0,1109123.0,1118167.0,1150003.0,1053562.0,1185444.0,1252271.0,1349883.0,1240286.0,1239513.0,1331914.0,1321707.0,961128.0,741906.0,304006.0,219342.0,198224.0,184180.0,154148.0,132181.0,162114.0,134436.0,176616.0,193990.0,101790.0,127661.0,76242.0,108113.0,112976.0,107280.0,108165.0,545778.0,460610.0,517384.0,506594.0,464085.0,497202.0,468863.0,430057.0,441537.0,434517.0,450710.0,414815.0,393769.0,405040.0,372140.0,403381.0,408567.0,401887.0,408776.0,372078.0,382537.0,386535.0,369463.0,279116.0,244802.0,249076.0,241487.0,256655.0,259974.0,204343.0,198128.0,168634.0,175604.0,170447.0,588322.0,527807.0,571849.0,573561.0,572857.0,556817.0,576908.0,504988.0,586381.0,620010.0,617809.0,533101.0,558681.0,625848.0,601626.0,533286.0,543081.0,37574.0,27110.0,24500.0,22764.0,21020.0,16337.0,22107.0,16616.0,11753.0,12909.0,6497.0,8149.0,4867.0,5083.0,5392.0,4988.0,5526.0,27289.0,27946.0,29069.0,30587.0,29054.0,29136.0,30565.0,27296.0,30653.0,31145.0,32714.0,30324.0,28883.0,30763.0,30217.0,23584.0,20123.0,13992.0,14437.0,14969.0,15052.0,14490.0,14370.0,14740.0,14945.0,15599.0,15201.0,13588.0,15747.0,14491.0,13854.0,11434.0,11434.0,5336.0,11494.0,11765.0,11926.0,11403.0,6893.0,1991.0,2998.0,3410.0,1607.0,1772.0,1799.0,1864.0,2076.0,2076.0,6128.0,6264.0,5655.0,11208.0,11471.0,11625.0,11143.0,12027.0,12556.0,11342.0,10054.0,12559.0,12668.0,13086.0,9669.0,14566.0,14566.0,13424.0,7870.0,6871.0,6972.0,7136.0,7233.0,6591.0,11269.0,6158.0,4196.0,6527.0,7795.0,7343.0,7755.0,6865.0,8736.0,8736.0,11356.0,5103.0,6547.0,15185.0,15185.0,15185.0,15185.0,12910.0,12131.0,13358.0,14232.0,14098.0,14098.0,16322.0,11621.0,7625.0,6763.0,6128.0,54781.0,52850.0,56153.0,56458.0,57695.0,59137.0,56801.0,55289.0,56921.0,58882.0,59779.0,53148.0,56338.0,57390.0,55320.0,55163.0,50105.0,71503.0,57175.0,67421.0,67423.0,62015.0,62054.0,58497.0,54730.0,55757.0,56429.0,56116.0,53090.0,49756.0,48140.0,45999.0,45504.0,42555.0,6984.0,7009.0,7106.0,7253.0,7105.0,7393.0,8135.0,8419.0,7269.0,7396.0,7688.0,8045.0,6812.0,7376.0,7643.0,6588.0,6431.0,18949.0,19615.0,19957.0,19752.0,19264.0,18626.0,18454.0,18926.0,19358.0,20832.0,20995.0,18640.0,17166.0,16343.0,16008.0,16394.0,16186.0,1702810.0,1704181.0,1746063.0,1674556.0,1637330.0,1644095.0,1641156.0,1593701.0,1648512.0,1605918.0,1689830.0,1670189.0,1616859.0,1679455.0,1677381.0,1352449.0,1588831.0,16821.0,16693.0,16894.0,17089.0,17384.0,17282.0,17414.0,17636.0,17887.0,17919.0,17923.0,17404.0,17363.0,17549.0,18321.0,18285.0,18897.0,698.0,699.0,733.0,735.0]},\"node\":{\"color\":\"green\",\"label\":[\"Commercial/Industrial/Large Residential\",\"Small Residential\",\"All Sectors\",\"Transportation\",\"Waste\",\"Electricity\",\"Fuel Oil\",\"Natural Gas\",\"Steam\",\"Fugitive gas\",\"BPS Buses\",\"Massport CNG\",\"Massport Diesel\",\"Massport Gasoline\",\"MBTA CNG\",\"MBTA Diesel\",\"MBTA Electricity\",\"MBTA Gasoline\",\"Other municipal fleets\",\"Vehicle Fuel\",\"Waste Water\",\"Compost\"],\"line\":{\"color\":\"black\",\"width\":0.5},\"pad\":15,\"thickness\":20},\"type\":\"sankey\"}],                        {\"template\":{\"data\":{\"histogram2dcontour\":[{\"type\":\"histogram2dcontour\",\"colorbar\":{\"outlinewidth\":0,\"ticks\":\"\"},\"colorscale\":[[0.0,\"#0d0887\"],[0.1111111111111111,\"#46039f\"],[0.2222222222222222,\"#7201a8\"],[0.3333333333333333,\"#9c179e\"],[0.4444444444444444,\"#bd3786\"],[0.5555555555555556,\"#d8576b\"],[0.6666666666666666,\"#ed7953\"],[0.7777777777777778,\"#fb9f3a\"],[0.8888888888888888,\"#fdca26\"],[1.0,\"#f0f921\"]]}],\"choropleth\":[{\"type\":\"choropleth\",\"colorbar\":{\"outlinewidth\":0,\"ticks\":\"\"}}],\"histogram2d\":[{\"type\":\"histogram2d\",\"colorbar\":{\"outlinewidth\":0,\"ticks\":\"\"},\"colorscale\":[[0.0,\"#0d0887\"],[0.1111111111111111,\"#46039f\"],[0.2222222222222222,\"#7201a8\"],[0.3333333333333333,\"#9c179e\"],[0.4444444444444444,\"#bd3786\"],[0.5555555555555556,\"#d8576b\"],[0.6666666666666666,\"#ed7953\"],[0.7777777777777778,\"#fb9f3a\"],[0.8888888888888888,\"#fdca26\"],[1.0,\"#f0f921\"]]}],\"heatmap\":[{\"type\":\"heatmap\",\"colorbar\":{\"outlinewidth\":0,\"ticks\":\"\"},\"colorscale\":[[0.0,\"#0d0887\"],[0.1111111111111111,\"#46039f\"],[0.2222222222222222,\"#7201a8\"],[0.3333333333333333,\"#9c179e\"],[0.4444444444444444,\"#bd3786\"],[0.5555555555555556,\"#d8576b\"],[0.6666666666666666,\"#ed7953\"],[0.7777777777777778,\"#fb9f3a\"],[0.8888888888888888,\"#fdca26\"],[1.0,\"#f0f921\"]]}],\"heatmapgl\":[{\"type\":\"heatmapgl\",\"colorbar\":{\"outlinewidth\":0,\"ticks\":\"\"},\"colorscale\":[[0.0,\"#0d0887\"],[0.1111111111111111,\"#46039f\"],[0.2222222222222222,\"#7201a8\"],[0.3333333333333333,\"#9c179e\"],[0.4444444444444444,\"#bd3786\"],[0.5555555555555556,\"#d8576b\"],[0.6666666666666666,\"#ed7953\"],[0.7777777777777778,\"#fb9f3a\"],[0.8888888888888888,\"#fdca26\"],[1.0,\"#f0f921\"]]}],\"contourcarpet\":[{\"type\":\"contourcarpet\",\"colorbar\":{\"outlinewidth\":0,\"ticks\":\"\"}}],\"contour\":[{\"type\":\"contour\",\"colorbar\":{\"outlinewidth\":0,\"ticks\":\"\"},\"colorscale\":[[0.0,\"#0d0887\"],[0.1111111111111111,\"#46039f\"],[0.2222222222222222,\"#7201a8\"],[0.3333333333333333,\"#9c179e\"],[0.4444444444444444,\"#bd3786\"],[0.5555555555555556,\"#d8576b\"],[0.6666666666666666,\"#ed7953\"],[0.7777777777777778,\"#fb9f3a\"],[0.8888888888888888,\"#fdca26\"],[1.0,\"#f0f921\"]]}],\"surface\":[{\"type\":\"surface\",\"colorbar\":{\"outlinewidth\":0,\"ticks\":\"\"},\"colorscale\":[[0.0,\"#0d0887\"],[0.1111111111111111,\"#46039f\"],[0.2222222222222222,\"#7201a8\"],[0.3333333333333333,\"#9c179e\"],[0.4444444444444444,\"#bd3786\"],[0.5555555555555556,\"#d8576b\"],[0.6666666666666666,\"#ed7953\"],[0.7777777777777778,\"#fb9f3a\"],[0.8888888888888888,\"#fdca26\"],[1.0,\"#f0f921\"]]}],\"mesh3d\":[{\"type\":\"mesh3d\",\"colorbar\":{\"outlinewidth\":0,\"ticks\":\"\"}}],\"scatter\":[{\"fillpattern\":{\"fillmode\":\"overlay\",\"size\":10,\"solidity\":0.2},\"type\":\"scatter\"}],\"parcoords\":[{\"type\":\"parcoords\",\"line\":{\"colorbar\":{\"outlinewidth\":0,\"ticks\":\"\"}}}],\"scatterpolargl\":[{\"type\":\"scatterpolargl\",\"marker\":{\"colorbar\":{\"outlinewidth\":0,\"ticks\":\"\"}}}],\"bar\":[{\"error_x\":{\"color\":\"#2a3f5f\"},\"error_y\":{\"color\":\"#2a3f5f\"},\"marker\":{\"line\":{\"color\":\"#E5ECF6\",\"width\":0.5},\"pattern\":{\"fillmode\":\"overlay\",\"size\":10,\"solidity\":0.2}},\"type\":\"bar\"}],\"scattergeo\":[{\"type\":\"scattergeo\",\"marker\":{\"colorbar\":{\"outlinewidth\":0,\"ticks\":\"\"}}}],\"scatterpolar\":[{\"type\":\"scatterpolar\",\"marker\":{\"colorbar\":{\"outlinewidth\":0,\"ticks\":\"\"}}}],\"histogram\":[{\"marker\":{\"pattern\":{\"fillmode\":\"overlay\",\"size\":10,\"solidity\":0.2}},\"type\":\"histogram\"}],\"scattergl\":[{\"type\":\"scattergl\",\"marker\":{\"colorbar\":{\"outlinewidth\":0,\"ticks\":\"\"}}}],\"scatter3d\":[{\"type\":\"scatter3d\",\"line\":{\"colorbar\":{\"outlinewidth\":0,\"ticks\":\"\"}},\"marker\":{\"colorbar\":{\"outlinewidth\":0,\"ticks\":\"\"}}}],\"scattermapbox\":[{\"type\":\"scattermapbox\",\"marker\":{\"colorbar\":{\"outlinewidth\":0,\"ticks\":\"\"}}}],\"scatterternary\":[{\"type\":\"scatterternary\",\"marker\":{\"colorbar\":{\"outlinewidth\":0,\"ticks\":\"\"}}}],\"scattercarpet\":[{\"type\":\"scattercarpet\",\"marker\":{\"colorbar\":{\"outlinewidth\":0,\"ticks\":\"\"}}}],\"carpet\":[{\"aaxis\":{\"endlinecolor\":\"#2a3f5f\",\"gridcolor\":\"white\",\"linecolor\":\"white\",\"minorgridcolor\":\"white\",\"startlinecolor\":\"#2a3f5f\"},\"baxis\":{\"endlinecolor\":\"#2a3f5f\",\"gridcolor\":\"white\",\"linecolor\":\"white\",\"minorgridcolor\":\"white\",\"startlinecolor\":\"#2a3f5f\"},\"type\":\"carpet\"}],\"table\":[{\"cells\":{\"fill\":{\"color\":\"#EBF0F8\"},\"line\":{\"color\":\"white\"}},\"header\":{\"fill\":{\"color\":\"#C8D4E3\"},\"line\":{\"color\":\"white\"}},\"type\":\"table\"}],\"barpolar\":[{\"marker\":{\"line\":{\"color\":\"#E5ECF6\",\"width\":0.5},\"pattern\":{\"fillmode\":\"overlay\",\"size\":10,\"solidity\":0.2}},\"type\":\"barpolar\"}],\"pie\":[{\"automargin\":true,\"type\":\"pie\"}]},\"layout\":{\"autotypenumbers\":\"strict\",\"colorway\":[\"#636efa\",\"#EF553B\",\"#00cc96\",\"#ab63fa\",\"#FFA15A\",\"#19d3f3\",\"#FF6692\",\"#B6E880\",\"#FF97FF\",\"#FECB52\"],\"font\":{\"color\":\"#2a3f5f\"},\"hovermode\":\"closest\",\"hoverlabel\":{\"align\":\"left\"},\"paper_bgcolor\":\"white\",\"plot_bgcolor\":\"#E5ECF6\",\"polar\":{\"bgcolor\":\"#E5ECF6\",\"angularaxis\":{\"gridcolor\":\"white\",\"linecolor\":\"white\",\"ticks\":\"\"},\"radialaxis\":{\"gridcolor\":\"white\",\"linecolor\":\"white\",\"ticks\":\"\"}},\"ternary\":{\"bgcolor\":\"#E5ECF6\",\"aaxis\":{\"gridcolor\":\"white\",\"linecolor\":\"white\",\"ticks\":\"\"},\"baxis\":{\"gridcolor\":\"white\",\"linecolor\":\"white\",\"ticks\":\"\"},\"caxis\":{\"gridcolor\":\"white\",\"linecolor\":\"white\",\"ticks\":\"\"}},\"coloraxis\":{\"colorbar\":{\"outlinewidth\":0,\"ticks\":\"\"}},\"colorscale\":{\"sequential\":[[0.0,\"#0d0887\"],[0.1111111111111111,\"#46039f\"],[0.2222222222222222,\"#7201a8\"],[0.3333333333333333,\"#9c179e\"],[0.4444444444444444,\"#bd3786\"],[0.5555555555555556,\"#d8576b\"],[0.6666666666666666,\"#ed7953\"],[0.7777777777777778,\"#fb9f3a\"],[0.8888888888888888,\"#fdca26\"],[1.0,\"#f0f921\"]],\"sequentialminus\":[[0.0,\"#0d0887\"],[0.1111111111111111,\"#46039f\"],[0.2222222222222222,\"#7201a8\"],[0.3333333333333333,\"#9c179e\"],[0.4444444444444444,\"#bd3786\"],[0.5555555555555556,\"#d8576b\"],[0.6666666666666666,\"#ed7953\"],[0.7777777777777778,\"#fb9f3a\"],[0.8888888888888888,\"#fdca26\"],[1.0,\"#f0f921\"]],\"diverging\":[[0,\"#8e0152\"],[0.1,\"#c51b7d\"],[0.2,\"#de77ae\"],[0.3,\"#f1b6da\"],[0.4,\"#fde0ef\"],[0.5,\"#f7f7f7\"],[0.6,\"#e6f5d0\"],[0.7,\"#b8e186\"],[0.8,\"#7fbc41\"],[0.9,\"#4d9221\"],[1,\"#276419\"]]},\"xaxis\":{\"gridcolor\":\"white\",\"linecolor\":\"white\",\"ticks\":\"\",\"title\":{\"standoff\":15},\"zerolinecolor\":\"white\",\"automargin\":true,\"zerolinewidth\":2},\"yaxis\":{\"gridcolor\":\"white\",\"linecolor\":\"white\",\"ticks\":\"\",\"title\":{\"standoff\":15},\"zerolinecolor\":\"white\",\"automargin\":true,\"zerolinewidth\":2},\"scene\":{\"xaxis\":{\"backgroundcolor\":\"#E5ECF6\",\"gridcolor\":\"white\",\"linecolor\":\"white\",\"showbackground\":true,\"ticks\":\"\",\"zerolinecolor\":\"white\",\"gridwidth\":2},\"yaxis\":{\"backgroundcolor\":\"#E5ECF6\",\"gridcolor\":\"white\",\"linecolor\":\"white\",\"showbackground\":true,\"ticks\":\"\",\"zerolinecolor\":\"white\",\"gridwidth\":2},\"zaxis\":{\"backgroundcolor\":\"#E5ECF6\",\"gridcolor\":\"white\",\"linecolor\":\"white\",\"showbackground\":true,\"ticks\":\"\",\"zerolinecolor\":\"white\",\"gridwidth\":2}},\"shapedefaults\":{\"line\":{\"color\":\"#2a3f5f\"}},\"annotationdefaults\":{\"arrowcolor\":\"#2a3f5f\",\"arrowhead\":0,\"arrowwidth\":1},\"geo\":{\"bgcolor\":\"white\",\"landcolor\":\"#E5ECF6\",\"subunitcolor\":\"white\",\"showland\":true,\"showlakes\":true,\"lakecolor\":\"white\"},\"title\":{\"x\":0.05},\"mapbox\":{\"style\":\"light\"}}},\"title\":{\"text\":\"Sankey Diagram of GHG Emissions by Sector and Source\"},\"font\":{\"size\":10}},                        {\"responsive\": true}                    ).then(function(){\n",
       "                            \n",
       "var gd = document.getElementById('64984ee4-9ebd-4079-a4ef-b842d5052da8');\n",
       "var x = new MutationObserver(function (mutations, observer) {{\n",
       "        var display = window.getComputedStyle(gd).display;\n",
       "        if (!display || display === 'none') {{\n",
       "            console.log([gd, 'removed!']);\n",
       "            Plotly.purge(gd);\n",
       "            observer.disconnect();\n",
       "        }}\n",
       "}});\n",
       "\n",
       "// Listen for the removal of the full notebook cells\n",
       "var notebookContainer = gd.closest('#notebook-container');\n",
       "if (notebookContainer) {{\n",
       "    x.observe(notebookContainer, {childList: true});\n",
       "}}\n",
       "\n",
       "// Listen for the clearing of the current output cell\n",
       "var outputEl = gd.closest('.output');\n",
       "if (outputEl) {{\n",
       "    x.observe(outputEl, {childList: true});\n",
       "}}\n",
       "\n",
       "                        })                };                });            </script>        </div>"
      ]
     },
     "metadata": {},
     "output_type": "display_data"
    }
   ],
   "source": [
    "# https://plotly.com/python/sankey-diagram/\n",
    "\n",
    "import plotly.graph_objects as go\n",
    "\n",
    "# Create mappings for sectors and sources to integers\n",
    "sector_ids = {sector: i for i, sector in enumerate(df['Sector'].unique())}\n",
    "source_ids = {source: i + len(sector_ids) for i, source in enumerate(df['Source'].unique())}\n",
    "\n",
    "# creat lists for source, target, and value\n",
    "sources = []\n",
    "targets = []\n",
    "values = []\n",
    "\n",
    "for _, row in df.iterrows():\n",
    "    source_index = sector_ids[row['Sector']]\n",
    "    target_index = source_ids[row['Source']]\n",
    "    value = row[' GHG Emissions (mt CO2e) ']\n",
    "\n",
    "    sources.append(source_index)\n",
    "    targets.append(target_index)\n",
    "    values.append(value)\n",
    "\n",
    "# Define colors or use a default gradient\n",
    "colors = ['rgba(%d, %d, %d, 0.6)' % (i, i * 10, i * 20) for i in range(len(sources))]\n",
    "\n",
    "# Visualize Sankey Diagram \n",
    "fig = go.Figure(data=[go.Sankey(\n",
    "    node=dict(\n",
    "        pad=15,  \n",
    "        thickness=20,\n",
    "        line=dict(color='black', width=0.5),\n",
    "        label=list(sector_ids.keys()) + list(source_ids.keys()),  \n",
    "        color='green'\n",
    "    ),\n",
    "    link=dict(\n",
    "        source=sources,\n",
    "        target=targets,\n",
    "        value=values,\n",
    "        color=colors\n",
    "    ))])\n",
    "\n",
    "fig.update_layout(title_text=\"Sankey Diagram of GHG Emissions by Sector and Source\", font_size=10)\n",
    "fig.show()"
   ]
  },
  {
   "cell_type": "code",
   "execution_count": null,
   "id": "665dd217",
   "metadata": {},
   "outputs": [],
   "source": []
  }
 ],
 "metadata": {
  "kernelspec": {
   "display_name": "Python 3 (ipykernel)",
   "language": "python",
   "name": "python3"
  },
  "language_info": {
   "codemirror_mode": {
    "name": "ipython",
    "version": 3
   },
   "file_extension": ".py",
   "mimetype": "text/x-python",
   "name": "python",
   "nbconvert_exporter": "python",
   "pygments_lexer": "ipython3",
   "version": "3.9.13"
  }
 },
 "nbformat": 4,
 "nbformat_minor": 5
}
